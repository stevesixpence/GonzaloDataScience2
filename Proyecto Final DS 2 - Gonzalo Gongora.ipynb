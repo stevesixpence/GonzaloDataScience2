{
 "cells": [
  {
   "cell_type": "markdown",
   "metadata": {},
   "source": [
    "# **Proyecto Final - Data Science 2**\n",
    "## **Prediccion de Pais Destino en AirBnB**\n",
    "\n",
    "En esta entrega se cubren las siguentes rubricas:\n",
    "\n",
    "1. Generar preguntas o hipótesis de interés sobre el dataset elegido para el proyecto final.\n",
    "2. Crear gráficos que usen al menos tres variables y hacer un diagnóstico de lo que los mismos nos están diciendo.\n",
    "3. Vincular los gráficos y análisis numéricos hechos hasta el momento con las preguntas de interés.\n",
    "4. Identificar valores perdidos.\n",
    "\n",
    "El dataset esta compuesto de una carpeta de archivos en formato CSV conteniendo informacion de usuarios de USA que realizan reservaciones en AirBnB para diferentes paises. Dicho Dataset puede descargarse de kaggle (solo despues de un muy engorroso proceso de alta de usuario) en la siguiente liga:\n",
    "\n",
    "__https://www.kaggle.com/competitions/airbnb-recruiting-new-user-bookings/data__\n",
    "\n",
    "El sitio web describe el Dataset con el siguiente parrafo:\n",
    "\n",
    "''''''''''''''''''''''''''''''''''''''''''''''''''''''''''''''''''''''''''''''''''''''''''\n",
    "Dataset Description'''''''''''''''''''''''''''''''''''''''''''''''''''''''''''''''''''''''\n",
    "\n",
    "In this challenge, you are given a list of users along with their demographics, web session records, and some summary statistics. You are asked to predict which country a new user's first booking destination will be. All the users in this dataset are from the USA.\n",
    "\n",
    "There are 12 possible outcomes of the destination country: 'US', 'FR', 'CA', 'GB', 'ES', 'IT', 'PT', 'NL','DE', 'AU', 'NDF' (no destination found), and 'other'. Please note that 'NDF' is different from 'other' because 'other' means there was a booking, but is to a country not included in the list, while 'NDF' means there wasn't a booking.\n",
    "\n",
    "The training and test sets are split by dates. In the test set, you will predict all the new users with first activities after 7/1/2014 (note: this is updated on 12/5/15 when the competition restarted). In the sessions dataset, the data only dates back to 1/1/2014, while the users dataset dates back to 2010. ''''''''''''''''''''''''''''''''''''''''''''''''''''''''''''''''''''''''''''''''''''''''''''''''''''''''''''''''''''''''''''''''''''''''''''''''''''''''''''''''''''''''''''''''''''''''''''''''''''"
   ]
  },
  {
   "cell_type": "markdown",
   "metadata": {},
   "source": [
    "## Pt. I Analisis de Metadatos\n",
    "\n",
    "El dataset consta de 5 archivos en formato CSV que contienen unformacion de los usuarios y reservaciones en la plataforma AirBnb. Los archivos son los siguientes:\n",
    "\n",
    "1. **age_gender_bkts**: contiene info. de la edad, pais, genero, ID y anyo de registro de los usuarios\n",
    "2. **countries**: describe los paises destino de los diferentes usuarios, describe la ubicacion con latitud y longitud, distancia en km, descripcion del destino en km2, lenguaje del pais destino y distancia levenshtein del lenguaje\n",
    "3. **sessions**: contiene informacion de sesion del usuario, userID, accion ejecutada, tipo de accion, detalle de accion, tipo de dispositivo y segundos transcurridos\n",
    "4. **test_users**: dataset de 15 columnas con informacion de los regtistros como user ID, fecha de creacion del usuario, timestamp de actividad, fecha de la primera reserva, genero, edad, metodo de registro, flujo de registro, idioma, canal afiliado, proveedor afiliado, primer afiliado reconocido, tipo de aplicacion de registro y primer browser. Se usa para probar el modelo predictivo.\n",
    "5. **train_users_2**: dataset de 16 columnas con informacion de los regtistros como user ID, fecha de creacion del usuario, timestamp de actividad, fecha de la primera reserva, genero, edad, metodo de registro, flujo de registro, idioma, canal afiliado, proveedor afiliado, primer afiliado reconocido, tipo de aplicacion de registro, primer browser y pais de destino. \n",
    "\n",
    "El objetivo de todo el dataset es que el programador se dedique a disenyar y entrenar un modelo predictivo para lograr saber cual es el siguiente pais que visitara un usuario registrado.\n",
    "\n",
    "Los dos archivos de Excel relevantes para el estudio (a mi consideracion) son:\n",
    "\n",
    "1. **train_set**\n",
    "2. **test_set**\n"
   ]
  },
  {
   "cell_type": "markdown",
   "metadata": {},
   "source": [
    "### Librerias Necesarias\n",
    "Este proyecto empieza importando las librerias necesarias. Necesito bastantes librerias para llenar, organizar, procesar, y revisar estructuras de datos o Dataframes.\n",
    "\n",
    "Procesamiento de Dataframes:\n",
    "\n",
    "    1. Pandas\n",
    "    2. NumPy\n",
    "    3. datetime  \n",
    "\n",
    "Generacion de Graficas:\n",
    "\n",
    "    4. Matplotlib\n",
    "\n",
    "Modelado de Machine Learning:\n",
    "\n",
    "    5. sklearn LabelEncoder\n",
    "    6. sklearn train_test_slpit\n",
    "    7. sklearn RandomForestClassifier\n",
    "    8. sklearn cross_val_score\n",
    "    9. sklearn classification_report\n",
    "    10. sklearn confusion_matrix,mean_absolute_error, mean_squared_error, r2_score, accuracy_score"
   ]
  },
  {
   "cell_type": "code",
   "execution_count": 1,
   "metadata": {},
   "outputs": [],
   "source": [
    "## Empiezo a importar las librerias necesarias para el proyecto\n",
    "import matplotlib.pyplot as plt # Para graficar\n",
    "import pandas as pd  # Para manipulacion de datos\n",
    "import numpy as np   # Para operaciones numericas\n",
    "import seaborn as sns\n",
    "import lazypredict\n",
    "\n",
    "from sklearn.model_selection import train_test_split\n",
    "from sklearn.ensemble import RandomForestClassifier\n",
    "from sklearn.metrics import accuracy_score\n",
    "from sklearn.compose import ColumnTransformer\n",
    "from imblearn.under_sampling import RandomUnderSampler\n",
    "\n"
   ]
  },
  {
   "cell_type": "code",
   "execution_count": 2,
   "metadata": {},
   "outputs": [
    {
     "name": "stdout",
     "output_type": "stream",
     "text": [
      "Train Shape: (213451, 16)\n",
      "Test Shape: (62096, 15)\n"
     ]
    }
   ],
   "source": [
    "# Cargando Datasets...\n",
    "train_df = pd.read_csv(\"train_users_2.csv\")\n",
    "test_df = pd.read_csv(\"test_users.csv\")\n",
    "\n",
    "# Mostrar informacion basica. Si deseo Mergearlos, necesito que sus vectores tengan la misma forma (1x16 , 1x15)\n",
    "print(\"Train Shape:\", train_df.shape)\n",
    "print(\"Test Shape:\", test_df.shape)\n"
   ]
  },
  {
   "cell_type": "code",
   "execution_count": 3,
   "metadata": {},
   "outputs": [
    {
     "name": "stdout",
     "output_type": "stream",
     "text": [
      "Train columns:\n",
      " Index(['id', 'date_account_created', 'timestamp_first_active',\n",
      "       'date_first_booking', 'gender', 'age', 'signup_method', 'signup_flow',\n",
      "       'language', 'affiliate_channel', 'affiliate_provider',\n",
      "       'first_affiliate_tracked', 'signup_app', 'first_device_type',\n",
      "       'first_browser', 'country_destination'],\n",
      "      dtype='object')\n",
      "\n",
      "Test columns:\n",
      " Index(['id', 'date_account_created', 'timestamp_first_active',\n",
      "       'date_first_booking', 'gender', 'age', 'signup_method', 'signup_flow',\n",
      "       'language', 'affiliate_channel', 'affiliate_provider',\n",
      "       'first_affiliate_tracked', 'signup_app', 'first_device_type',\n",
      "       'first_browser'],\n",
      "      dtype='object')\n"
     ]
    }
   ],
   "source": [
    "#Muestro el nombre de todas las columnas disponibles en los dataframes, \n",
    "print(\"Train columns:\\n\", train_df.columns)\n",
    "print(\"\\nTest columns:\\n\", test_df.columns)"
   ]
  },
  {
   "cell_type": "code",
   "execution_count": 4,
   "metadata": {},
   "outputs": [
    {
     "name": "stdout",
     "output_type": "stream",
     "text": [
      "\n",
      "Train Data Types:\n",
      " id                          object\n",
      "date_account_created        object\n",
      "timestamp_first_active       int64\n",
      "date_first_booking          object\n",
      "gender                      object\n",
      "age                        float64\n",
      "signup_method               object\n",
      "signup_flow                  int64\n",
      "language                    object\n",
      "affiliate_channel           object\n",
      "affiliate_provider          object\n",
      "first_affiliate_tracked     object\n",
      "signup_app                  object\n",
      "first_device_type           object\n",
      "first_browser               object\n",
      "country_destination         object\n",
      "dtype: object\n",
      "\n",
      "Test Data Types:\n",
      " id                          object\n",
      "date_account_created        object\n",
      "timestamp_first_active       int64\n",
      "date_first_booking         float64\n",
      "gender                      object\n",
      "age                        float64\n",
      "signup_method               object\n",
      "signup_flow                  int64\n",
      "language                    object\n",
      "affiliate_channel           object\n",
      "affiliate_provider          object\n",
      "first_affiliate_tracked     object\n",
      "signup_app                  object\n",
      "first_device_type           object\n",
      "first_browser               object\n",
      "dtype: object\n"
     ]
    }
   ],
   "source": [
    "print(\"\\nTrain Data Types:\\n\", train_df.dtypes)\n",
    "print(\"\\nTest Data Types:\\n\", test_df.dtypes)"
   ]
  },
  {
   "cell_type": "markdown",
   "metadata": {},
   "source": [
    "### Descripcion de 'train_set'\n",
    "Es un vector Train Shape: (213451, 16)\n",
    "Tengo 16 columnas:\n",
    "\n",
    "    1. id                        9. language\n",
    "    2. date_account_created      10. affiliate_channel  \n",
    "    3. timestamp_first_active    11. affiliate_provider\n",
    "    4. date_first_booking        12. first_affiliate_tracked\n",
    "    5. gender                    13. signup_app\n",
    "    6. age                       14. first_device_type\n",
    "    7. signup_method             15. first_browser\n",
    "    8. signup_flow               16. country_destination\n",
    "\n",
    "Existen datos raros a simple vista?\n",
    "\n",
    "### Descripcion de 'test_set'\n",
    "Cuantas filas x columnas? Test Shape: (62096, 15)\n",
    "Tengo 16 columnas:\n",
    "\n",
    "    1. id                        9. language\n",
    "    2. date_account_created      10. affiliate_channel  \n",
    "    3. timestamp_first_active    11. affiliate_provider\n",
    "    4. date_first_booking        12. first_affiliate_tracked\n",
    "    5. gender                    13. signup_app\n",
    "    6. age                       14. first_device_type\n",
    "    7. signup_method             15. first_browser\n",
    "    8. signup_flow               \n",
    "Existen datos raros a simple vista?\n",
    "\n",
    "\n",
    "Desde el vamos, el test_set carece de la columna Target, que seria 'country_destination'. Es decir: \n",
    "\n",
    "**No puedo hacer merge a estos datasets para obtener mas info para el entrenamiento de mi modelo.**"
   ]
  },
  {
   "cell_type": "markdown",
   "metadata": {},
   "source": [
    "### Identificacion de Ruido en el Dataset\n",
    "\n",
    "Empiezo buscando datos faltantes, nulos, corruptos, etc en ambos datasets:"
   ]
  },
  {
   "cell_type": "code",
   "execution_count": 5,
   "metadata": {},
   "outputs": [
    {
     "name": "stdout",
     "output_type": "stream",
     "text": [
      "\n",
      "Missing Values in Train Set:\n",
      " id                              0\n",
      "date_account_created            0\n",
      "timestamp_first_active          0\n",
      "date_first_booking         124543\n",
      "gender                          0\n",
      "age                         87990\n",
      "signup_method                   0\n",
      "signup_flow                     0\n",
      "language                        0\n",
      "affiliate_channel               0\n",
      "affiliate_provider              0\n",
      "first_affiliate_tracked      6065\n",
      "signup_app                      0\n",
      "first_device_type               0\n",
      "first_browser                   0\n",
      "country_destination             0\n",
      "dtype: int64\n",
      "\n",
      "Missing Values in Test Set:\n",
      " id                             0\n",
      "date_account_created           0\n",
      "timestamp_first_active         0\n",
      "date_first_booking         62096\n",
      "gender                         0\n",
      "age                        28876\n",
      "signup_method                  0\n",
      "signup_flow                    0\n",
      "language                       0\n",
      "affiliate_channel              0\n",
      "affiliate_provider             0\n",
      "first_affiliate_tracked       20\n",
      "signup_app                     0\n",
      "first_device_type              0\n",
      "first_browser                  0\n",
      "dtype: int64\n"
     ]
    }
   ],
   "source": [
    "print(\"\\nMissing Values in Train Set:\\n\", train_df.isnull().sum())\n",
    "print(\"\\nMissing Values in Test Set:\\n\", test_df.isnull().sum())\n"
   ]
  },
  {
   "cell_type": "code",
   "execution_count": 6,
   "metadata": {},
   "outputs": [
    {
     "name": "stdout",
     "output_type": "stream",
     "text": [
      "Perdida de  un  58.347349040294965  % de los datos\n",
      "124543\n"
     ]
    }
   ],
   "source": [
    "a=213451 #Numero de filas en el dataset de entrenamiento\n",
    "b= 100\n",
    "c=train_df['date_first_booking'].isnull().sum()\n",
    "x = (b*c)/a \n",
    "print(\"Perdida de  un \", x ,\" % de los datos\")\n",
    "print(c)"
   ]
  },
  {
   "cell_type": "code",
   "execution_count": 7,
   "metadata": {},
   "outputs": [
    {
     "name": "stdout",
     "output_type": "stream",
     "text": [
      "Perdida de  un  58.347349040294965  % de los datos\n",
      "124543\n"
     ]
    }
   ],
   "source": [
    "d= 213451 #Numero de filas en el dataset de entrenamiento\n",
    "e= 100\n",
    "f= (train_df['country_destination']== 'NDF').sum()\n",
    "y = (f*e)/d \n",
    "print(\"Perdida de  un \", y ,\" % de los datos\")\n",
    "print(f)"
   ]
  },
  {
   "cell_type": "markdown",
   "metadata": {},
   "source": [
    "Estoy notando que en el archivo 'train_users_2' muchos usuarios NO tienen fecha de primera reserva. \n",
    "\n",
    "Como dato curioso, el dataset de entrenamiento tiene un total de 213451 filas, de las cuales:\n",
    "\n",
    "    1. No existe ninguna fila en 'country_destination' que tenga valor Nulo y/o NaN\n",
    "    2. Existen 124543 filas en 'first_date_booking' con valores Nulos y/o NaN\n",
    "    3. Existen 124543 filas en 'country_destination' con valores 'NDF' o sin pais definido.\n",
    "\n",
    "Si echo un vistazo en Excel y ordeno el dataset de menor a mayor fecha, todos los NDF coinciden con los registros que corresponden a 'first_date_booking' vacios\n",
    "\n",
    "Como el objetivo de mis predicciones es conocer el destino de un usuario que viaja, podria droppear las filas de usuarios que NO tienen una reserva y observar si los resultados son buenos al momento de observar la distribucion. ---> Si este fuera el caso, **perderia 58.3473% de los datos**\n",
    "\n",
    "En ese caso, decido dejar estos datos y compensarlo posteriormente con algun metodo ya sea undersampling, oversampling, class weights o afines.\n",
    "\n",
    "Tambien observo que la columna 'age' tiene datos faltantes, sin embargo estos los voy a conservar, pues los puedo llenar con una mediana para no perder datos.\n",
    "\n"
   ]
  },
  {
   "cell_type": "code",
   "execution_count": 8,
   "metadata": {},
   "outputs": [
    {
     "name": "stdout",
     "output_type": "stream",
     "text": [
      "\n",
      "Unique Values in Categorical Features:\n",
      " {'id': 213451, 'date_account_created': 1634, 'date_first_booking': 1976, 'gender': 4, 'signup_method': 3, 'language': 25, 'affiliate_channel': 8, 'affiliate_provider': 18, 'first_affiliate_tracked': 7, 'signup_app': 4, 'first_device_type': 9, 'first_browser': 52, 'country_destination': 12}\n"
     ]
    }
   ],
   "source": [
    "categorical_columns = train_df.select_dtypes(include=['object']).columns.tolist()\n",
    "categorical_summary = {col: train_df[col].nunique() for col in categorical_columns}\n",
    "\n",
    "print(\"\\nUnique Values in Categorical Features:\\n\", categorical_summary)"
   ]
  },
  {
   "cell_type": "code",
   "execution_count": 9,
   "metadata": {},
   "outputs": [
    {
     "name": "stdout",
     "output_type": "stream",
     "text": [
      "\n",
      "Age Summary:\n",
      " count    125461.000000\n",
      "mean         49.668335\n",
      "std         155.666612\n",
      "min           1.000000\n",
      "25%          28.000000\n",
      "50%          34.000000\n",
      "75%          43.000000\n",
      "max        2014.000000\n",
      "Name: age, dtype: float64\n"
     ]
    }
   ],
   "source": [
    "print(\"\\nAge Summary:\\n\", train_df['age'].describe())\n"
   ]
  },
  {
   "cell_type": "code",
   "execution_count": 10,
   "metadata": {},
   "outputs": [
    {
     "name": "stdout",
     "output_type": "stream",
     "text": [
      "\n",
      "Converted Timestamp Example:\n",
      "   timestamp_first_active\n",
      "0    2009-03-19 04:32:55\n",
      "1    2009-05-23 17:48:09\n",
      "2    2009-06-09 23:12:47\n",
      "3    2009-10-31 06:01:29\n",
      "4    2009-12-08 06:11:05\n"
     ]
    }
   ],
   "source": [
    "train_df['timestamp_first_active'] = pd.to_datetime(train_df['timestamp_first_active'], format='%Y%m%d%H%M%S')\n",
    "test_df['timestamp_first_active'] = pd.to_datetime(test_df['timestamp_first_active'], format='%Y%m%d%H%M%S')\n",
    "\n",
    "print(\"\\nConverted Timestamp Example:\\n\", train_df[['timestamp_first_active']].head())\n"
   ]
  },
  {
   "cell_type": "code",
   "execution_count": 11,
   "metadata": {},
   "outputs": [
    {
     "data": {
      "text/plain": [
       "({'id': 213451,\n",
       "  'date_account_created': 1634,\n",
       "  'date_first_booking': 1976,\n",
       "  'gender': 4,\n",
       "  'signup_method': 3,\n",
       "  'language': 25,\n",
       "  'affiliate_channel': 8,\n",
       "  'affiliate_provider': 18,\n",
       "  'first_affiliate_tracked': 7,\n",
       "  'signup_app': 4,\n",
       "  'first_device_type': 9,\n",
       "  'first_browser': 52,\n",
       "  'country_destination': 12},\n",
       " country_destination\n",
       " NDF      58.347349\n",
       " US       29.222632\n",
       " other     4.728954\n",
       " FR        2.353233\n",
       " IT        1.328174\n",
       " GB        1.088774\n",
       " ES        1.053638\n",
       " CA        0.669006\n",
       " DE        0.497070\n",
       " NL        0.356991\n",
       " AU        0.252517\n",
       " PT        0.101663\n",
       " Name: proportion, dtype: float64,\n",
       " count    125461.000000\n",
       " mean         49.668335\n",
       " std         155.666612\n",
       " min           1.000000\n",
       " 25%          28.000000\n",
       " 50%          34.000000\n",
       " 75%          43.000000\n",
       " max        2014.000000\n",
       " Name: age, dtype: float64)"
      ]
     },
     "execution_count": 11,
     "metadata": {},
     "output_type": "execute_result"
    }
   ],
   "source": [
    "# Summary of categorical features\n",
    "categorical_columns = train_df.select_dtypes(include=['object']).columns.tolist()\n",
    "categorical_summary = {col: train_df[col].nunique() for col in categorical_columns}\n",
    "\n",
    "# Unique values in target variable\n",
    "target_distribution = train_df['country_destination'].value_counts(normalize=True) * 100\n",
    "\n",
    "# Checking age distribution and potential outliers\n",
    "age_summary = train_df['age'].describe()\n",
    "\n",
    "# Convert timestamp_first_active to datetime format\n",
    "train_df['timestamp_first_active'] = pd.to_datetime(train_df['timestamp_first_active'], format='%Y%m%d%H%M%S')\n",
    "test_df['timestamp_first_active'] = pd.to_datetime(test_df['timestamp_first_active'], format='%Y%m%d%H%M%S')\n",
    "\n",
    "# Display results\n",
    "categorical_summary, target_distribution, age_summary\n"
   ]
  },
  {
   "cell_type": "markdown",
   "metadata": {},
   "source": [
    "Empezamos con el Analisis de Metadatos de mi dataset"
   ]
  },
  {
   "cell_type": "markdown",
   "metadata": {},
   "source": [
    "Initial Findings:\n",
    "\n",
    "    Dataset Sizes\n",
    "        Train set: 213,451 rows × 16 columns\n",
    "        Test set: 62,096 rows × 15 columns (missing country_destination, which is expected)\n",
    "\n",
    "    Column Overview\n",
    "        The datasets share the same structure except for country_destination in the train set.\n",
    "        Most columns are categorical, with age as a numerical feature.\n",
    "        timestamp_first_active is stored as an integer (likely a timestamp).\n",
    "\n",
    "    Missing Values\n",
    "        date_first_booking has 124,543 missing values (58%) in the train set and completely missing (100%) in the test set.\n",
    "        age has 87,990 missing values (41%) in the train set and 28,876 missing (46%) in the test set.\n",
    "        first_affiliate_tracked has some missing values (6,065 in train, 20 in test).\n",
    "\n",
    "Next Steps:\n",
    "\n",
    "    Check value distributions and unique categories.\n",
    "    Investigate age (e.g., invalid values or outliers).\n",
    "    Convert timestamp_first_active to a readable date.\n",
    "    Examine the target variable country_destination.\n",
    "\n",
    "I'll continue the analysis now. ​\n",
    "\n",
    "​\n",
    "Key Insights:\n",
    "\n",
    "    Categorical Feature Overview\n",
    "        gender: 4 unique values\n",
    "        signup_method: 3 unique values\n",
    "        language: 25 unique values\n",
    "        first_browser: 52 unique values (could be simplified)\n",
    "        country_destination: 12 unique values (our target variable)\n",
    "\n",
    "    Target Variable Distribution\n",
    "        58.3% of users did not book any destination (NDF)\n",
    "        29.2% booked in the US\n",
    "        Other countries have much lower representation (e.g., France: 2.35%, Italy: 1.33%)\n",
    "        The dataset is highly imbalanced, which may require handling techniques (e.g., resampling or weighted loss functions).\n",
    "\n",
    "    Age Distribution and Outliers\n",
    "        Mean age: 49.67, but the max value is 2014, which is clearly incorrect.\n",
    "        75% of users are 43 or younger, suggesting values above ~100 might be invalid.\n",
    "        Likely need to filter or impute extreme age values.\n",
    "\n",
    "    Timestamp Conversion\n",
    "        timestamp_first_active is now a readable datetime format, which will allow extracting useful features (e.g., year, month, weekday)."
   ]
  },
  {
   "cell_type": "markdown",
   "metadata": {},
   "source": [
    "## Pt. 2 EDA\n",
    "\n",
    "Se realiza el tratamiento de los datos con el fin de mejorar la prediccion. "
   ]
  },
  {
   "cell_type": "markdown",
   "metadata": {},
   "source": [
    "### Visualizacion de Columna 'age'\n",
    "\n",
    "Comienzo graficando los valores de la columna 'age' para conocer la distribucion de los datos:"
   ]
  },
  {
   "cell_type": "code",
   "execution_count": 12,
   "metadata": {},
   "outputs": [
    {
     "name": "stdout",
     "output_type": "stream",
     "text": [
      "count    125461.000000\n",
      "mean         49.668335\n",
      "std         155.666612\n",
      "min           1.000000\n",
      "25%          28.000000\n",
      "50%          34.000000\n",
      "75%          43.000000\n",
      "max        2014.000000\n",
      "Name: age, dtype: float64\n"
     ]
    },
    {
     "data": {
      "text/plain": [
       "<Axes: xlabel='age'>"
      ]
     },
     "execution_count": 12,
     "metadata": {},
     "output_type": "execute_result"
    },
    {
     "data": {
      "image/png": "[encoded data removed]",
      "text/plain": [
       "<Figure size 640x480 with 1 Axes>"
      ]
     },
     "metadata": {},
     "output_type": "display_data"
    }
   ],
   "source": [
    "age = train_df['age']\n",
    "print(train_df['age'].describe())\n",
    "\n",
    "age.value_counts().plot.bar()"
   ]
  },
  {
   "cell_type": "markdown",
   "metadata": {},
   "source": [
    "He decidido quitar los valores ilogicos de la columa age (por ejemplo, una persona de 2024 a;os de edad). Considero que para este analisis vale la pena pensar que las personas registradas deben tener al menos 18 a;os por motivos de politicas de la plataforma, y maximo 100 a;os como limite superior.\n",
    "\n",
    "Hago asi para los conjuntos de test y train:"
   ]
  },
  {
   "cell_type": "code",
   "execution_count": 13,
   "metadata": {},
   "outputs": [
    {
     "data": {
      "text/plain": [
       "(array([ 7457., 24400., 34514., 19019., 13889.,  7708.,  6616.,  3932.,\n",
       "         3068.,  1277.,   556.,   177.,   129.,    74.,   142.]),\n",
       " array([ 18.        ,  23.46666667,  28.93333333,  34.4       ,\n",
       "         39.86666667,  45.33333333,  50.8       ,  56.26666667,\n",
       "         61.73333333,  67.2       ,  72.66666667,  78.13333333,\n",
       "         83.6       ,  89.06666667,  94.53333333, 100.        ]),\n",
       " <BarContainer object of 15 artists>)"
      ]
     },
     "execution_count": 13,
     "metadata": {},
     "output_type": "execute_result"
    },
    {
     "data": {
      "image/png": "[encoded data removed]",
      "text/plain": [
       "<Figure size 640x480 with 1 Axes>"
      ]
     },
     "metadata": {},
     "output_type": "display_data"
    },
    {
     "data": {
      "image/png": "[encoded data removed]",
      "text/plain": [
       "<Figure size 640x480 with 1 Axes>"
      ]
     },
     "metadata": {},
     "output_type": "display_data"
    }
   ],
   "source": [
    "# Convert timestamp_first_active to datetime format\n",
    "train_df['timestamp_first_active'] = pd.to_datetime(train_df['timestamp_first_active'], format='%Y%m%d%H%M%S')\n",
    "\n",
    "# Clean 'age' column: Keep values between 18 and 100, set others to NaN\n",
    "valid_age_range_test = (train_df['age'] >= 18) & (train_df['age'] <= 100)\n",
    "train_df.loc[~valid_age_range_test, 'age'] = np.nan\n",
    "\n",
    "age.value_counts().plot.bar()\n",
    "fig, ax = plt.subplots()\n",
    "ax.hist(age.dropna(), bins=15, color='blue', alpha=0.7)"
   ]
  },
  {
   "cell_type": "code",
   "execution_count": 14,
   "metadata": {},
   "outputs": [
    {
     "data": {
      "text/plain": [
       "<Axes: xlabel='age'>"
      ]
     },
     "execution_count": 14,
     "metadata": {},
     "output_type": "execute_result"
    },
    {
     "data": {
      "image/png": "[encoded data removed]",
      "text/plain": [
       "<Figure size 640x480 with 1 Axes>"
      ]
     },
     "metadata": {},
     "output_type": "display_data"
    }
   ],
   "source": [
    "aget = test_df['age']\n",
    "aget.value_counts().plot.bar()"
   ]
  },
  {
   "cell_type": "code",
   "execution_count": 15,
   "metadata": {},
   "outputs": [
    {
     "data": {
      "text/plain": [
       "(array([3905., 8214., 8543., 4169., 3006., 1698., 1417.,  829.,  620.,\n",
       "         254.,  103.,   25.,   19.,   17.,   26.]),\n",
       " array([ 18.        ,  23.46666667,  28.93333333,  34.4       ,\n",
       "         39.86666667,  45.33333333,  50.8       ,  56.26666667,\n",
       "         61.73333333,  67.2       ,  72.66666667,  78.13333333,\n",
       "         83.6       ,  89.06666667,  94.53333333, 100.        ]),\n",
       " <BarContainer object of 15 artists>)"
      ]
     },
     "execution_count": 15,
     "metadata": {},
     "output_type": "execute_result"
    },
    {
     "data": {
      "image/png": "[encoded data removed]",
      "text/plain": [
       "<Figure size 640x480 with 1 Axes>"
      ]
     },
     "metadata": {},
     "output_type": "display_data"
    },
    {
     "data": {
      "image/png": "[encoded data removed]",
      "text/plain": [
       "<Figure size 640x480 with 1 Axes>"
      ]
     },
     "metadata": {},
     "output_type": "display_data"
    }
   ],
   "source": [
    "# Convert timestamp_first_active to datetime format\n",
    "test_df['timestamp_first_active'] = pd.to_datetime(test_df['timestamp_first_active'], format='%Y%m%d%H%M%S')\n",
    "\n",
    "# Clean 'age' column: Keep values between 18 and 100, set others to NaN\n",
    "valid_age_range_test = (test_df['age'] >= 18) & (test_df['age'] <= 100)\n",
    "test_df.loc[~valid_age_range_test, 'age'] = np.nan\n",
    "\n",
    "aget.value_counts().plot.bar()\n",
    "fig, ax = plt.subplots()\n",
    "ax.hist(aget, bins=15, color='blue', alpha=0.7)"
   ]
  },
  {
   "cell_type": "markdown",
   "metadata": {},
   "source": [
    "### Visualizacion de Columna 'gender'\n",
    "\n",
    "Grafico la columna de Genero del dataset, pues considero que esta variable puede ayudar a realizar predicciones."
   ]
  },
  {
   "cell_type": "code",
   "execution_count": 16,
   "metadata": {},
   "outputs": [
    {
     "data": {
      "text/plain": [
       "(array([95688.,     0.,     0.,     0.,     0., 54440.,     0.,     0.,\n",
       "            0.,     0., 63041.,     0.,     0.,     0.,   282.]),\n",
       " array([0. , 0.2, 0.4, 0.6, 0.8, 1. , 1.2, 1.4, 1.6, 1.8, 2. , 2.2, 2.4,\n",
       "        2.6, 2.8, 3. ]),\n",
       " <BarContainer object of 15 artists>)"
      ]
     },
     "execution_count": 16,
     "metadata": {},
     "output_type": "execute_result"
    },
    {
     "data": {
      "image/png": "[encoded data removed]",
      "text/plain": [
       "<Figure size 640x480 with 1 Axes>"
      ]
     },
     "metadata": {},
     "output_type": "display_data"
    },
    {
     "data": {
      "image/png": "[encoded data removed]",
      "text/plain": [
       "<Figure size 640x480 with 1 Axes>"
      ]
     },
     "metadata": {},
     "output_type": "display_data"
    }
   ],
   "source": [
    "#Se grafican los valores unicos en la columna de genero, pues podria ser un buen indicador:\n",
    "train_df['gender'].value_counts().plot.bar()\n",
    "gender = train_df['gender']\n",
    "fig, ax = plt.subplots()\n",
    "ax.hist(gender, bins=15, color='blue', alpha=0.7)"
   ]
  },
  {
   "cell_type": "code",
   "execution_count": 17,
   "metadata": {},
   "outputs": [
    {
     "data": {
      "text/plain": [
       "(array([54440.,     0.,     0.,     0.,     0.,     0.,     0., 63041.,\n",
       "            0.,     0.,     0.,     0.,     0.,     0.,   282.]),\n",
       " array([0.        , 0.13333333, 0.26666667, 0.4       , 0.53333333,\n",
       "        0.66666667, 0.8       , 0.93333333, 1.06666667, 1.2       ,\n",
       "        1.33333333, 1.46666667, 1.6       , 1.73333333, 1.86666667,\n",
       "        2.        ]),\n",
       " <BarContainer object of 15 artists>)"
      ]
     },
     "execution_count": 17,
     "metadata": {},
     "output_type": "execute_result"
    },
    {
     "data": {
      "image/png": "[encoded data removed]",
      "text/plain": [
       "<Figure size 640x480 with 1 Axes>"
      ]
     },
     "metadata": {},
     "output_type": "display_data"
    },
    {
     "data": {
      "image/png": "[encoded data removed]",
      "text/plain": [
       "<Figure size 640x480 with 1 Axes>"
      ]
     },
     "metadata": {},
     "output_type": "display_data"
    }
   ],
   "source": [
    "genderc = train_df['gender'].replace(\"-unknown-\", np.nan)\n",
    "gender.value_counts().plot.bar()\n",
    "fig, ax = plt.subplots()\n",
    "ax.hist(genderc.dropna(), bins=15, color='blue', alpha=0.7)"
   ]
  },
  {
   "cell_type": "markdown",
   "metadata": {},
   "source": [
    "### Visualizacion de Columna 'signup_flow'\n",
    "\n",
    "Esta columna podria ser util para el modelo predictivo, decido graficarla para observar la distribucion."
   ]
  },
  {
   "cell_type": "code",
   "execution_count": 18,
   "metadata": {},
   "outputs": [
    {
     "data": {
      "text/plain": [
       "(array([1.65786e+05, 1.57030e+04, 1.00000e+00, 3.37000e+02, 2.40000e+02,\n",
       "        0.00000e+00, 2.00000e+00, 9.32900e+03, 0.00000e+00, 2.10000e+01,\n",
       "        0.00000e+00, 0.00000e+00, 2.10000e+02, 2.83500e+03, 1.89870e+04]),\n",
       " array([ 0.        ,  1.66666667,  3.33333333,  5.        ,  6.66666667,\n",
       "         8.33333333, 10.        , 11.66666667, 13.33333333, 15.        ,\n",
       "        16.66666667, 18.33333333, 20.        , 21.66666667, 23.33333333,\n",
       "        25.        ]),\n",
       " <BarContainer object of 15 artists>)"
      ]
     },
     "execution_count": 18,
     "metadata": {},
     "output_type": "execute_result"
    },
    {
     "data": {
      "image/png": "[encoded data removed]",
      "text/plain": [
       "<Figure size 640x480 with 1 Axes>"
      ]
     },
     "metadata": {},
     "output_type": "display_data"
    },
    {
     "data": {
      "image/png": "[encoded data removed]",
      "text/plain": [
       "<Figure size 640x480 with 1 Axes>"
      ]
     },
     "metadata": {},
     "output_type": "display_data"
    }
   ],
   "source": [
    "sign = train_df['signup_flow']\n",
    "sign.value_counts().plot.bar()\n",
    "fig, ax = plt.subplots()\n",
    "ax.hist(sign, bins=15, color='blue', alpha=0.7)"
   ]
  },
  {
   "cell_type": "markdown",
   "metadata": {},
   "source": [
    "### Columna 'language'\n",
    "\n",
    "Podria ser que el lenguaje del usuario de indicios sobre los paises que quiera visitar, posiblemente por razones culturales del lugar de origen. Pongamoslo a prueba.\n",
    "\n",
    "Esta variable es multiple categorica, por lo que un histograma con su distribucion no seria util para saber que tan bien va a predecir."
   ]
  },
  {
   "cell_type": "code",
   "execution_count": 19,
   "metadata": {},
   "outputs": [
    {
     "data": {
      "text/plain": [
       "<Axes: xlabel='language'>"
      ]
     },
     "execution_count": 19,
     "metadata": {},
     "output_type": "execute_result"
    },
    {
     "data": {
      "image/png": "[encoded data removed]",
      "text/plain": [
       "<Figure size 640x480 with 1 Axes>"
      ]
     },
     "metadata": {},
     "output_type": "display_data"
    }
   ],
   "source": [
    "lang = train_df['language']\n",
    "lang.value_counts().plot.bar()"
   ]
  },
  {
   "cell_type": "markdown",
   "metadata": {},
   "source": [
    "Sin embargo, la inmensa mayoria de los usuarios es angloparlante, por lo cual no creo encontrar mucha informacion con estos datos."
   ]
  },
  {
   "cell_type": "markdown",
   "metadata": {},
   "source": [
    "### Columna 'country_destination'\n",
    "\n",
    "Es mi columna objetivo para las predicciones, por lo cual debera ser manejada con mucho cuidado. Empezare por observar su histograma para determinar la distribucion de estos datos:"
   ]
  },
  {
   "cell_type": "markdown",
   "metadata": {},
   "source": [
    "    Check for missing values (though there shouldn't be any in the training set).\n",
    "    Look for inconsistencies (e.g., unexpected values).\n",
    "    Analyze class distribution again (since it's highly imbalanced).\n",
    "    Decide on encoding:\n",
    "        We’ll likely use label encoding (mapping each country to a number) for modeling.\n",
    "        Alternatively, one-hot encoding could be used if the model requires categorical features."
   ]
  },
  {
   "cell_type": "code",
   "execution_count": 20,
   "metadata": {},
   "outputs": [
    {
     "data": {
      "text/plain": [
       "<Axes: xlabel='country_destination'>"
      ]
     },
     "execution_count": 20,
     "metadata": {},
     "output_type": "execute_result"
    },
    {
     "data": {
      "image/png": "[encoded data removed]",
      "text/plain": [
       "<Figure size 640x480 with 1 Axes>"
      ]
     },
     "metadata": {},
     "output_type": "display_data"
    }
   ],
   "source": [
    "destination = train_df['country_destination']\n",
    "destination.value_counts().plot.bar()"
   ]
  },
  {
   "cell_type": "markdown",
   "metadata": {},
   "source": [
    "La mayoria de los datos son a un pais NDF. Como he explorado antes, no puedo recortar los datos NDF, pues corresponden al 58.3~% de los datos del dataset. La mayoria de los usuarios cayendo en las categorias NDF y US. Esto tendra que ser compensado mas adelante en el proyecto con alguna medida. "
   ]
  },
  {
   "cell_type": "code",
   "execution_count": 21,
   "metadata": {},
   "outputs": [
    {
     "name": "stdout",
     "output_type": "stream",
     "text": [
      "Missing values in 'country_destination': 0\n",
      "\n",
      "Unique values in 'country_destination': ['NDF' 'US' 'other' 'FR' 'CA' 'GB' 'ES' 'IT' 'PT' 'NL' 'DE' 'AU']\n",
      "\n",
      "Target variable distribution (%):\n",
      " country_destination\n",
      "NDF      58.347349\n",
      "US       29.222632\n",
      "other     4.728954\n",
      "FR        2.353233\n",
      "IT        1.328174\n",
      "GB        1.088774\n",
      "ES        1.053638\n",
      "CA        0.669006\n",
      "DE        0.497070\n",
      "NL        0.356991\n",
      "AU        0.252517\n",
      "PT        0.101663\n",
      "Name: proportion, dtype: float64\n"
     ]
    },
    {
     "data": {
      "text/plain": [
       "<function matplotlib.pyplot.show(close=None, block=None)>"
      ]
     },
     "execution_count": 21,
     "metadata": {},
     "output_type": "execute_result"
    },
    {
     "data": {
      "image/png": "[encoded data removed]",
      "text/plain": [
       "<Figure size 640x480 with 1 Axes>"
      ]
     },
     "metadata": {},
     "output_type": "display_data"
    }
   ],
   "source": [
    "# Check for missing values\n",
    "print(\"Missing values in 'country_destination':\", train_df['country_destination'].isnull().sum())\n",
    "\n",
    "# Check unique values\n",
    "print(\"\\nUnique values in 'country_destination':\", train_df['country_destination'].unique())\n",
    "\n",
    "# Check target variable distribution\n",
    "target_distribution = train_df['country_destination'].value_counts(normalize=True) * 100\n",
    "print(\"\\nTarget variable distribution (%):\\n\", target_distribution)\n",
    "\n",
    "#target_distribution.plot()\n",
    "plt.hist(target_distribution,15) ## Antes de graficar tengo que hacer hot encoding\n",
    "plt.show"
   ]
  },
  {
   "cell_type": "markdown",
   "metadata": {},
   "source": [
    "Estoy intentando observar la distribucion de una variable Categorica, lo cual no llegara muy lejos pues la distribucion aplica para valores numericos y continuos, no para categoricos."
   ]
  },
  {
   "cell_type": "markdown",
   "metadata": {},
   "source": [
    "## Pt. 3  Data Wrangling\n",
    "\n",
    "En este apartado voy a procurar obtener datos con una distribucion mas cercana a lo que se considera Normal y dejarlos lo mas limpios posible para proponer un modelo predictivo."
   ]
  },
  {
   "cell_type": "markdown",
   "metadata": {},
   "source": [
    "### Columna 'age'\n",
    "\n",
    "Procedo a tratar los datos del dataset de Entrenamiento imputando la mediana de edad en los valores vacios."
   ]
  },
  {
   "cell_type": "code",
   "execution_count": 22,
   "metadata": {},
   "outputs": [
    {
     "name": "stdout",
     "output_type": "stream",
     "text": [
      "count    213451.000000\n",
      "mean         35.483680\n",
      "std           8.956788\n",
      "min          18.000000\n",
      "25%          32.000000\n",
      "50%          34.000000\n",
      "75%          35.000000\n",
      "max         100.000000\n",
      "Name: agef, dtype: float64\n"
     ]
    },
    {
     "name": "stderr",
     "output_type": "stream",
     "text": [
      "C:\\Users\\Administrator\\AppData\\Local\\Temp\\ipykernel_5896\\3548923055.py:6: FutureWarning: A value is trying to be set on a copy of a DataFrame or Series through chained assignment using an inplace method.\n",
      "The behavior will change in pandas 3.0. This inplace method will never work because the intermediate object on which we are setting values always behaves as a copy.\n",
      "\n",
      "For example, when doing 'df[col].method(value, inplace=True)', try using 'df.method({col: value}, inplace=True)' or df[col] = df[col].method(value) instead, to perform the operation inplace on the original object.\n",
      "\n",
      "\n",
      "  train_df['agef'].fillna(median_age, inplace=True)\n"
     ]
    },
    {
     "data": {
      "text/plain": [
       "(array([7.45700e+03, 2.44000e+04, 1.25007e+05, 1.90190e+04, 1.38890e+04,\n",
       "        7.70800e+03, 6.61600e+03, 3.93200e+03, 3.06800e+03, 1.27700e+03,\n",
       "        5.56000e+02, 1.77000e+02, 1.29000e+02, 7.40000e+01, 1.42000e+02]),\n",
       " array([ 18.        ,  23.46666667,  28.93333333,  34.4       ,\n",
       "         39.86666667,  45.33333333,  50.8       ,  56.26666667,\n",
       "         61.73333333,  67.2       ,  72.66666667,  78.13333333,\n",
       "         83.6       ,  89.06666667,  94.53333333, 100.        ]),\n",
       " <BarContainer object of 15 artists>)"
      ]
     },
     "execution_count": 22,
     "metadata": {},
     "output_type": "execute_result"
    },
    {
     "data": {
      "image/png": "[encoded data removed]",
      "text/plain": [
       "<Figure size 640x480 with 1 Axes>"
      ]
     },
     "metadata": {},
     "output_type": "display_data"
    },
    {
     "data": {
      "image/png": "[encoded data removed]",
      "text/plain": [
       "<Figure size 640x480 with 1 Axes>"
      ]
     },
     "metadata": {},
     "output_type": "display_data"
    }
   ],
   "source": [
    "# Fill missing ages with the same median from the training set (34)\n",
    "median_age = 34  # Use the calculated median from train data\n",
    "train_df['agef'] = train_df['age']\n",
    "\n",
    "#Aqui sobreescribo la columna con datos imputados sobre la original\n",
    "train_df['agef'].fillna(median_age, inplace=True)\n",
    "\n",
    "# Verify the cleaned age distribution\n",
    "print(train_df['agef'].describe())\n",
    "valid_age_range_test = (train_df['agef'] >= 18) & (train_df['agef'] <= 100)\n",
    "train_df.loc[~valid_age_range_test, 'agef'] = np.nan\n",
    "train_df['agef'].value_counts().plot.bar()\n",
    "\n",
    "fig, ax = plt.subplots()\n",
    "ax.hist(train_df['agef'].dropna(), bins=15, color='blue', alpha=0.7)\n"
   ]
  },
  {
   "cell_type": "code",
   "execution_count": 23,
   "metadata": {},
   "outputs": [
    {
     "data": {
      "text/html": [
       "<div>\n",
       "<style scoped>\n",
       "    .dataframe tbody tr th:only-of-type {\n",
       "        vertical-align: middle;\n",
       "    }\n",
       "\n",
       "    .dataframe tbody tr th {\n",
       "        vertical-align: top;\n",
       "    }\n",
       "\n",
       "    .dataframe thead th {\n",
       "        text-align: right;\n",
       "    }\n",
       "</style>\n",
       "<table border=\"1\" class=\"dataframe\">\n",
       "  <thead>\n",
       "    <tr style=\"text-align: right;\">\n",
       "      <th></th>\n",
       "      <th>id</th>\n",
       "      <th>date_account_created</th>\n",
       "      <th>timestamp_first_active</th>\n",
       "      <th>date_first_booking</th>\n",
       "      <th>gender</th>\n",
       "      <th>age</th>\n",
       "      <th>signup_method</th>\n",
       "      <th>signup_flow</th>\n",
       "      <th>language</th>\n",
       "      <th>affiliate_channel</th>\n",
       "      <th>affiliate_provider</th>\n",
       "      <th>first_affiliate_tracked</th>\n",
       "      <th>signup_app</th>\n",
       "      <th>first_device_type</th>\n",
       "      <th>first_browser</th>\n",
       "      <th>country_destination</th>\n",
       "      <th>agef</th>\n",
       "    </tr>\n",
       "  </thead>\n",
       "  <tbody>\n",
       "    <tr>\n",
       "      <th>0</th>\n",
       "      <td>gxn3p5htnn</td>\n",
       "      <td>2010-06-28</td>\n",
       "      <td>2009-03-19 04:32:55</td>\n",
       "      <td>NaN</td>\n",
       "      <td>-unknown-</td>\n",
       "      <td>NaN</td>\n",
       "      <td>facebook</td>\n",
       "      <td>0</td>\n",
       "      <td>en</td>\n",
       "      <td>direct</td>\n",
       "      <td>direct</td>\n",
       "      <td>untracked</td>\n",
       "      <td>Web</td>\n",
       "      <td>Mac Desktop</td>\n",
       "      <td>Chrome</td>\n",
       "      <td>NDF</td>\n",
       "      <td>34.0</td>\n",
       "    </tr>\n",
       "    <tr>\n",
       "      <th>1</th>\n",
       "      <td>820tgsjxq7</td>\n",
       "      <td>2011-05-25</td>\n",
       "      <td>2009-05-23 17:48:09</td>\n",
       "      <td>NaN</td>\n",
       "      <td>MALE</td>\n",
       "      <td>38.0</td>\n",
       "      <td>facebook</td>\n",
       "      <td>0</td>\n",
       "      <td>en</td>\n",
       "      <td>seo</td>\n",
       "      <td>google</td>\n",
       "      <td>untracked</td>\n",
       "      <td>Web</td>\n",
       "      <td>Mac Desktop</td>\n",
       "      <td>Chrome</td>\n",
       "      <td>NDF</td>\n",
       "      <td>38.0</td>\n",
       "    </tr>\n",
       "    <tr>\n",
       "      <th>2</th>\n",
       "      <td>4ft3gnwmtx</td>\n",
       "      <td>2010-09-28</td>\n",
       "      <td>2009-06-09 23:12:47</td>\n",
       "      <td>2010-08-02</td>\n",
       "      <td>FEMALE</td>\n",
       "      <td>56.0</td>\n",
       "      <td>basic</td>\n",
       "      <td>3</td>\n",
       "      <td>en</td>\n",
       "      <td>direct</td>\n",
       "      <td>direct</td>\n",
       "      <td>untracked</td>\n",
       "      <td>Web</td>\n",
       "      <td>Windows Desktop</td>\n",
       "      <td>IE</td>\n",
       "      <td>US</td>\n",
       "      <td>56.0</td>\n",
       "    </tr>\n",
       "    <tr>\n",
       "      <th>3</th>\n",
       "      <td>bjjt8pjhuk</td>\n",
       "      <td>2011-12-05</td>\n",
       "      <td>2009-10-31 06:01:29</td>\n",
       "      <td>2012-09-08</td>\n",
       "      <td>FEMALE</td>\n",
       "      <td>42.0</td>\n",
       "      <td>facebook</td>\n",
       "      <td>0</td>\n",
       "      <td>en</td>\n",
       "      <td>direct</td>\n",
       "      <td>direct</td>\n",
       "      <td>untracked</td>\n",
       "      <td>Web</td>\n",
       "      <td>Mac Desktop</td>\n",
       "      <td>Firefox</td>\n",
       "      <td>other</td>\n",
       "      <td>42.0</td>\n",
       "    </tr>\n",
       "    <tr>\n",
       "      <th>4</th>\n",
       "      <td>87mebub9p4</td>\n",
       "      <td>2010-09-14</td>\n",
       "      <td>2009-12-08 06:11:05</td>\n",
       "      <td>2010-02-18</td>\n",
       "      <td>-unknown-</td>\n",
       "      <td>41.0</td>\n",
       "      <td>basic</td>\n",
       "      <td>0</td>\n",
       "      <td>en</td>\n",
       "      <td>direct</td>\n",
       "      <td>direct</td>\n",
       "      <td>untracked</td>\n",
       "      <td>Web</td>\n",
       "      <td>Mac Desktop</td>\n",
       "      <td>Chrome</td>\n",
       "      <td>US</td>\n",
       "      <td>41.0</td>\n",
       "    </tr>\n",
       "  </tbody>\n",
       "</table>\n",
       "</div>"
      ],
      "text/plain": [
       "           id date_account_created timestamp_first_active date_first_booking  \\\n",
       "0  gxn3p5htnn           2010-06-28    2009-03-19 04:32:55                NaN   \n",
       "1  820tgsjxq7           2011-05-25    2009-05-23 17:48:09                NaN   \n",
       "2  4ft3gnwmtx           2010-09-28    2009-06-09 23:12:47         2010-08-02   \n",
       "3  bjjt8pjhuk           2011-12-05    2009-10-31 06:01:29         2012-09-08   \n",
       "4  87mebub9p4           2010-09-14    2009-12-08 06:11:05         2010-02-18   \n",
       "\n",
       "      gender   age signup_method  signup_flow language affiliate_channel  \\\n",
       "0  -unknown-   NaN      facebook            0       en            direct   \n",
       "1       MALE  38.0      facebook            0       en               seo   \n",
       "2     FEMALE  56.0         basic            3       en            direct   \n",
       "3     FEMALE  42.0      facebook            0       en            direct   \n",
       "4  -unknown-  41.0         basic            0       en            direct   \n",
       "\n",
       "  affiliate_provider first_affiliate_tracked signup_app first_device_type  \\\n",
       "0             direct               untracked        Web       Mac Desktop   \n",
       "1             google               untracked        Web       Mac Desktop   \n",
       "2             direct               untracked        Web   Windows Desktop   \n",
       "3             direct               untracked        Web       Mac Desktop   \n",
       "4             direct               untracked        Web       Mac Desktop   \n",
       "\n",
       "  first_browser country_destination  agef  \n",
       "0        Chrome                 NDF  34.0  \n",
       "1        Chrome                 NDF  38.0  \n",
       "2            IE                  US  56.0  \n",
       "3       Firefox               other  42.0  \n",
       "4        Chrome                  US  41.0  "
      ]
     },
     "execution_count": 23,
     "metadata": {},
     "output_type": "execute_result"
    }
   ],
   "source": [
    "train_df.head()"
   ]
  },
  {
   "cell_type": "code",
   "execution_count": 24,
   "metadata": {},
   "outputs": [
    {
     "data": {
      "text/plain": [
       "0      NaN\n",
       "1     38.0\n",
       "2     56.0\n",
       "3     42.0\n",
       "4     41.0\n",
       "5      NaN\n",
       "6     46.0\n",
       "7     47.0\n",
       "8     50.0\n",
       "9     46.0\n",
       "10    36.0\n",
       "11    47.0\n",
       "12     NaN\n",
       "13    37.0\n",
       "14    36.0\n",
       "15    33.0\n",
       "16     NaN\n",
       "17    31.0\n",
       "18     NaN\n",
       "19    29.0\n",
       "Name: age, dtype: float64"
      ]
     },
     "execution_count": 24,
     "metadata": {},
     "output_type": "execute_result"
    }
   ],
   "source": [
    "train_df['age'].head(20)"
   ]
  },
  {
   "cell_type": "code",
   "execution_count": 25,
   "metadata": {},
   "outputs": [
    {
     "data": {
      "text/plain": [
       "0     34.0\n",
       "1     38.0\n",
       "2     56.0\n",
       "3     42.0\n",
       "4     41.0\n",
       "5     34.0\n",
       "6     46.0\n",
       "7     47.0\n",
       "8     50.0\n",
       "9     46.0\n",
       "10    36.0\n",
       "11    47.0\n",
       "12    34.0\n",
       "13    37.0\n",
       "14    36.0\n",
       "15    33.0\n",
       "16    34.0\n",
       "17    31.0\n",
       "18    34.0\n",
       "19    29.0\n",
       "Name: agef, dtype: float64"
      ]
     },
     "execution_count": 25,
     "metadata": {},
     "output_type": "execute_result"
    }
   ],
   "source": [
    "train_df['agef'].head(20)"
   ]
  },
  {
   "cell_type": "markdown",
   "metadata": {},
   "source": [
    "Despues de intentar reemplazar los valores NaN con la mediana de Edad, simplemente obtenemos un pico muy pronunciado con la distribucion aun cargada a la izquierda.\n",
    "\n",
    "Intentare reiniciar mis valores y realizar un Sampleo Aleatorio (random sampling)."
   ]
  },
  {
   "cell_type": "code",
   "execution_count": 26,
   "metadata": {},
   "outputs": [
    {
     "data": {
      "image/png": "[encoded data removed]",
      "text/plain": [
       "<Figure size 640x480 with 1 Axes>"
      ]
     },
     "metadata": {},
     "output_type": "display_data"
    }
   ],
   "source": [
    "# Extract valid (non-null) ages\n",
    "valid_ages = train_df['age'].dropna()\n",
    "\n",
    "# Apply random sampling for missing values\n",
    "train_df['age_r']=train_df['age'].apply(lambda x: np.random.choice(valid_ages) if np.isnan(x) else x)\n",
    "train_df['age_r'].describe()\n",
    "\n",
    "fig, ax = plt.subplots()\n",
    "ax.hist(train_df['age_r'], bins=15, color='blue', alpha=0.7)\n",
    "\n",
    "balanced_df=train_df\n",
    "\n",
    "balanced_df['age']=train_df['age_r']"
   ]
  },
  {
   "cell_type": "code",
   "execution_count": 27,
   "metadata": {},
   "outputs": [
    {
     "data": {
      "text/plain": [
       "0     31.0\n",
       "1     38.0\n",
       "2     56.0\n",
       "3     42.0\n",
       "4     41.0\n",
       "5     40.0\n",
       "6     46.0\n",
       "7     47.0\n",
       "8     50.0\n",
       "9     46.0\n",
       "10    36.0\n",
       "11    47.0\n",
       "12    38.0\n",
       "13    37.0\n",
       "14    36.0\n",
       "15    33.0\n",
       "16    29.0\n",
       "17    31.0\n",
       "18    26.0\n",
       "19    29.0\n",
       "20    27.0\n",
       "21    30.0\n",
       "22    40.0\n",
       "23    34.0\n",
       "24    40.0\n",
       "25    26.0\n",
       "26    52.0\n",
       "27    32.0\n",
       "28    35.0\n",
       "29    37.0\n",
       "Name: age_r, dtype: float64"
      ]
     },
     "execution_count": 27,
     "metadata": {},
     "output_type": "execute_result"
    }
   ],
   "source": [
    "train_df['age_r'].head(30)"
   ]
  },
  {
   "cell_type": "markdown",
   "metadata": {},
   "source": [
    "### Columna 'gender'\n",
    "\n",
    "Considerando que respeto los valores 'male', 'female' y 'other' como variables categoricas, tengo que balancearlas de otra manera.\n",
    "\n"
   ]
  },
  {
   "cell_type": "code",
   "execution_count": 28,
   "metadata": {},
   "outputs": [
    {
     "data": {
      "text/plain": [
       "<Axes: xlabel='gender'>"
      ]
     },
     "execution_count": 28,
     "metadata": {},
     "output_type": "execute_result"
    },
    {
     "data": {
      "image/png": "[encoded data removed]",
      "text/plain": [
       "<Figure size 640x480 with 1 Axes>"
      ]
     },
     "metadata": {},
     "output_type": "display_data"
    }
   ],
   "source": [
    "from imblearn.under_sampling import RandomUnderSampler\n",
    "\n",
    "X = train_df.drop(columns=['gender'])\n",
    "y = train_df['gender']\n",
    "\n",
    "undersampler = RandomUnderSampler(sampling_strategy='auto', random_state=42)\n",
    "X_resampled, y_resampled = undersampler.fit_resample(X, y)\n",
    "\n",
    "balanced_df = X_resampled.copy()\n",
    "\n",
    "## Guardo y sobreescribo la columna balanceada sobre la original\n",
    "\n",
    "balanced_df['gender'] = y_resampled\n",
    "\n",
    "y_resampled.head()\n",
    "y_resampled.value_counts().plot.bar()"
   ]
  },
  {
   "cell_type": "code",
   "execution_count": 29,
   "metadata": {},
   "outputs": [
    {
     "data": {
      "text/plain": [
       "188664    -unknown-\n",
       "141178    -unknown-\n",
       "64315     -unknown-\n",
       "37925     -unknown-\n",
       "4695      -unknown-\n",
       "200357    -unknown-\n",
       "87332     -unknown-\n",
       "182314    -unknown-\n",
       "52124     -unknown-\n",
       "168434    -unknown-\n",
       "103645    -unknown-\n",
       "80280     -unknown-\n",
       "179480    -unknown-\n",
       "81952     -unknown-\n",
       "59898     -unknown-\n",
       "131347    -unknown-\n",
       "43549     -unknown-\n",
       "70142     -unknown-\n",
       "157101    -unknown-\n",
       "124947    -unknown-\n",
       "Name: gender, dtype: object"
      ]
     },
     "execution_count": 29,
     "metadata": {},
     "output_type": "execute_result"
    }
   ],
   "source": [
    "balanced_df['gender'].head(20)"
   ]
  },
  {
   "cell_type": "markdown",
   "metadata": {},
   "source": [
    "### Columna 'language'\n",
    "\n",
    "Decido emplear RandomUnderSampling para balancear el sesgo pesado que los datos tienen hacia el idioma Ingles o 'en', en la columna:"
   ]
  },
  {
   "cell_type": "code",
   "execution_count": 30,
   "metadata": {},
   "outputs": [
    {
     "data": {
      "text/plain": [
       "<Axes: xlabel='language'>"
      ]
     },
     "execution_count": 30,
     "metadata": {},
     "output_type": "execute_result"
    },
    {
     "data": {
      "image/png": "[encoded data removed]",
      "text/plain": [
       "<Figure size 640x480 with 1 Axes>"
      ]
     },
     "metadata": {},
     "output_type": "display_data"
    }
   ],
   "source": [
    "from imblearn.under_sampling import RandomUnderSampler\n",
    "\n",
    "X = train_df.drop(columns=['language'])\n",
    "y = train_df['language']\n",
    "\n",
    "undersampler = RandomUnderSampler(sampling_strategy='auto', random_state=42)\n",
    "X_resampled, y_resampled = undersampler.fit_resample(X, y)\n",
    "\n",
    "balanced_df = X_resampled.copy()\n",
    "\n",
    "## Guardo y sobreescribo la columna balanceada sobre la original\n",
    "\n",
    "balanced_df['language'] = y_resampled\n",
    "\n",
    "y_resampled.head()\n",
    "y_resampled.value_counts().plot.bar()"
   ]
  },
  {
   "cell_type": "code",
   "execution_count": 31,
   "metadata": {},
   "outputs": [
    {
     "data": {
      "text/plain": [
       "155624    ko\n",
       "189549    ko\n",
       "56739     nl\n",
       "134501    nl\n",
       "100378    no\n",
       "201881    no\n",
       "3691      pl\n",
       "8096      pl\n",
       "184999    pt\n",
       "32553     pt\n",
       "72524     ru\n",
       "65402     ru\n",
       "23499     sv\n",
       "16822     sv\n",
       "205333    th\n",
       "189316    th\n",
       "100421    tr\n",
       "146056    tr\n",
       "127598    zh\n",
       "90701     zh\n",
       "Name: language, dtype: object"
      ]
     },
     "execution_count": 31,
     "metadata": {},
     "output_type": "execute_result"
    }
   ],
   "source": [
    "balanced_df['language'].tail(20)"
   ]
  },
  {
   "cell_type": "markdown",
   "metadata": {},
   "source": [
    "### Columna 'Country Destination'\n",
    "\n",
    "Empiezo a hacer el balanceo de la columna objetivo, empleando RandomUndersampling y dejar "
   ]
  },
  {
   "cell_type": "code",
   "execution_count": 32,
   "metadata": {},
   "outputs": [
    {
     "data": {
      "text/plain": [
       "<Axes: xlabel='country_destination'>"
      ]
     },
     "execution_count": 32,
     "metadata": {},
     "output_type": "execute_result"
    },
    {
     "data": {
      "image/png": "[encoded data removed]",
      "text/plain": [
       "<Figure size 640x480 with 1 Axes>"
      ]
     },
     "metadata": {},
     "output_type": "display_data"
    }
   ],
   "source": [
    "# Separate features and target variable\n",
    "X = train_df.drop(columns=['country_destination'])\n",
    "y = train_df['country_destination']\n",
    "\n",
    "# Apply undersampling\n",
    "undersampler = RandomUnderSampler(sampling_strategy='auto', random_state=42)\n",
    "X_resampled, y_resampled = undersampler.fit_resample(X, y)\n",
    "\n",
    "# Recreate a balanced dataframe\n",
    "balanced_df = pd.DataFrame(X_resampled, columns=X.columns)  # Reconstruct X as a DataFrame\n",
    "balanced_df['country_destination'] = y_resampled  # Add the target column back\n",
    "\n",
    "# Check the class distribution\n",
    "y_resampled.value_counts().plot.bar()\n"
   ]
  },
  {
   "cell_type": "code",
   "execution_count": 33,
   "metadata": {},
   "outputs": [
    {
     "data": {
      "text/plain": [
       "43941     other\n",
       "194149    other\n",
       "60459     other\n",
       "176715    other\n",
       "47046     other\n",
       "100491    other\n",
       "213147    other\n",
       "207378    other\n",
       "25579     other\n",
       "164104    other\n",
       "151628    other\n",
       "153140    other\n",
       "84530     other\n",
       "55833     other\n",
       "107885    other\n",
       "166197    other\n",
       "118399    other\n",
       "93095     other\n",
       "171693    other\n",
       "190867    other\n",
       "166303    other\n",
       "93275     other\n",
       "196476    other\n",
       "123079    other\n",
       "101713    other\n",
       "15092     other\n",
       "96010     other\n",
       "133210    other\n",
       "155505    other\n",
       "8114      other\n",
       "197945    other\n",
       "113887    other\n",
       "181831    other\n",
       "195123    other\n",
       "208007    other\n",
       "19098     other\n",
       "4626      other\n",
       "27939     other\n",
       "145866    other\n",
       "7431      other\n",
       "Name: country_destination, dtype: object"
      ]
     },
     "execution_count": 33,
     "metadata": {},
     "output_type": "execute_result"
    }
   ],
   "source": [
    "balanced_df['country_destination'].tail(40)"
   ]
  },
  {
   "cell_type": "markdown",
   "metadata": {},
   "source": [
    "#### Dataframe Balanceado\n",
    "\n",
    "Al final de cada columna procesada he estado guardando los datos \"limpios\" en las columnas de un dataframe nuevo llamado \"balanced_df\", que es el que voy a usar para mi procesamiento del modelo predictivo.\n",
    "Empiezo quitando las columnas que no voy a usar para el analisis:"
   ]
  },
  {
   "cell_type": "code",
   "execution_count": 34,
   "metadata": {},
   "outputs": [
    {
     "data": {
      "text/html": [
       "<div>\n",
       "<style scoped>\n",
       "    .dataframe tbody tr th:only-of-type {\n",
       "        vertical-align: middle;\n",
       "    }\n",
       "\n",
       "    .dataframe tbody tr th {\n",
       "        vertical-align: top;\n",
       "    }\n",
       "\n",
       "    .dataframe thead th {\n",
       "        text-align: right;\n",
       "    }\n",
       "</style>\n",
       "<table border=\"1\" class=\"dataframe\">\n",
       "  <thead>\n",
       "    <tr style=\"text-align: right;\">\n",
       "      <th></th>\n",
       "      <th>date_account_created</th>\n",
       "      <th>timestamp_first_active</th>\n",
       "      <th>date_first_booking</th>\n",
       "      <th>gender</th>\n",
       "      <th>age</th>\n",
       "      <th>signup_method</th>\n",
       "      <th>signup_flow</th>\n",
       "      <th>language</th>\n",
       "      <th>affiliate_channel</th>\n",
       "      <th>affiliate_provider</th>\n",
       "      <th>first_affiliate_tracked</th>\n",
       "      <th>signup_app</th>\n",
       "      <th>first_device_type</th>\n",
       "      <th>first_browser</th>\n",
       "      <th>agef</th>\n",
       "      <th>country_destination</th>\n",
       "    </tr>\n",
       "  </thead>\n",
       "  <tbody>\n",
       "    <tr>\n",
       "      <th>186050</th>\n",
       "      <td>2014-05-08</td>\n",
       "      <td>2014-05-08 01:09:03</td>\n",
       "      <td>2014-05-08</td>\n",
       "      <td>MALE</td>\n",
       "      <td>33.0</td>\n",
       "      <td>basic</td>\n",
       "      <td>0</td>\n",
       "      <td>en</td>\n",
       "      <td>sem-non-brand</td>\n",
       "      <td>google</td>\n",
       "      <td>omg</td>\n",
       "      <td>Web</td>\n",
       "      <td>Mac Desktop</td>\n",
       "      <td>Safari</td>\n",
       "      <td>34.0</td>\n",
       "      <td>AU</td>\n",
       "    </tr>\n",
       "    <tr>\n",
       "      <th>28916</th>\n",
       "      <td>2012-06-23</td>\n",
       "      <td>2012-06-23 23:56:37</td>\n",
       "      <td>2012-06-24</td>\n",
       "      <td>FEMALE</td>\n",
       "      <td>31.0</td>\n",
       "      <td>basic</td>\n",
       "      <td>0</td>\n",
       "      <td>en</td>\n",
       "      <td>sem-non-brand</td>\n",
       "      <td>vast</td>\n",
       "      <td>omg</td>\n",
       "      <td>Web</td>\n",
       "      <td>Windows Desktop</td>\n",
       "      <td>IE</td>\n",
       "      <td>34.0</td>\n",
       "      <td>AU</td>\n",
       "    </tr>\n",
       "    <tr>\n",
       "      <th>126401</th>\n",
       "      <td>2013-11-21</td>\n",
       "      <td>2013-11-21 04:13:07</td>\n",
       "      <td>2013-12-07</td>\n",
       "      <td>MALE</td>\n",
       "      <td>24.0</td>\n",
       "      <td>facebook</td>\n",
       "      <td>0</td>\n",
       "      <td>en</td>\n",
       "      <td>direct</td>\n",
       "      <td>direct</td>\n",
       "      <td>linked</td>\n",
       "      <td>Web</td>\n",
       "      <td>Windows Desktop</td>\n",
       "      <td>Firefox</td>\n",
       "      <td>24.0</td>\n",
       "      <td>AU</td>\n",
       "    </tr>\n",
       "    <tr>\n",
       "      <th>35264</th>\n",
       "      <td>2012-08-06</td>\n",
       "      <td>2012-08-06 17:55:24</td>\n",
       "      <td>2012-08-10</td>\n",
       "      <td>MALE</td>\n",
       "      <td>27.0</td>\n",
       "      <td>basic</td>\n",
       "      <td>0</td>\n",
       "      <td>en</td>\n",
       "      <td>direct</td>\n",
       "      <td>direct</td>\n",
       "      <td>linked</td>\n",
       "      <td>Web</td>\n",
       "      <td>Mac Desktop</td>\n",
       "      <td>Chrome</td>\n",
       "      <td>27.0</td>\n",
       "      <td>AU</td>\n",
       "    </tr>\n",
       "    <tr>\n",
       "      <th>169066</th>\n",
       "      <td>2014-03-29</td>\n",
       "      <td>2014-03-29 03:16:23</td>\n",
       "      <td>2014-03-30</td>\n",
       "      <td>FEMALE</td>\n",
       "      <td>24.0</td>\n",
       "      <td>basic</td>\n",
       "      <td>0</td>\n",
       "      <td>en</td>\n",
       "      <td>direct</td>\n",
       "      <td>direct</td>\n",
       "      <td>untracked</td>\n",
       "      <td>Web</td>\n",
       "      <td>Mac Desktop</td>\n",
       "      <td>Safari</td>\n",
       "      <td>24.0</td>\n",
       "      <td>AU</td>\n",
       "    </tr>\n",
       "  </tbody>\n",
       "</table>\n",
       "</div>"
      ],
      "text/plain": [
       "       date_account_created timestamp_first_active date_first_booking  gender  \\\n",
       "186050           2014-05-08    2014-05-08 01:09:03         2014-05-08    MALE   \n",
       "28916            2012-06-23    2012-06-23 23:56:37         2012-06-24  FEMALE   \n",
       "126401           2013-11-21    2013-11-21 04:13:07         2013-12-07    MALE   \n",
       "35264            2012-08-06    2012-08-06 17:55:24         2012-08-10    MALE   \n",
       "169066           2014-03-29    2014-03-29 03:16:23         2014-03-30  FEMALE   \n",
       "\n",
       "         age signup_method  signup_flow language affiliate_channel  \\\n",
       "186050  33.0         basic            0       en     sem-non-brand   \n",
       "28916   31.0         basic            0       en     sem-non-brand   \n",
       "126401  24.0      facebook            0       en            direct   \n",
       "35264   27.0         basic            0       en            direct   \n",
       "169066  24.0         basic            0       en            direct   \n",
       "\n",
       "       affiliate_provider first_affiliate_tracked signup_app  \\\n",
       "186050             google                     omg        Web   \n",
       "28916                vast                     omg        Web   \n",
       "126401             direct                  linked        Web   \n",
       "35264              direct                  linked        Web   \n",
       "169066             direct               untracked        Web   \n",
       "\n",
       "       first_device_type first_browser  agef country_destination  \n",
       "186050       Mac Desktop        Safari  34.0                  AU  \n",
       "28916    Windows Desktop            IE  34.0                  AU  \n",
       "126401   Windows Desktop       Firefox  24.0                  AU  \n",
       "35264        Mac Desktop        Chrome  27.0                  AU  \n",
       "169066       Mac Desktop        Safari  24.0                  AU  "
      ]
     },
     "execution_count": 34,
     "metadata": {},
     "output_type": "execute_result"
    }
   ],
   "source": [
    "balanced_df.drop(columns=['id','age_r' ], inplace=True)\n",
    "balanced_df.head()"
   ]
  },
  {
   "cell_type": "markdown",
   "metadata": {},
   "source": [
    "### Matriz de Correlaciones\n",
    "\n",
    "Se crea una matriz de correlaciones para determinar cuales son las Features que podemos usar para predecir y cuales podemos dejar de un lado para optimizar el modelo:"
   ]
  },
  {
   "cell_type": "code",
   "execution_count": 35,
   "metadata": {},
   "outputs": [
    {
     "name": "stdout",
     "output_type": "stream",
     "text": [
      "country_destination    1.000000\n",
      "signup_flow            0.039596\n",
      "age                    0.027032\n",
      "agef                   0.026199\n",
      "Name: country_destination, dtype: float64\n"
     ]
    }
   ],
   "source": [
    "# Convert target variable to numerical encoding\n",
    "balanced_df['country_destination'] = balanced_df['country_destination'].astype('category').cat.codes\n",
    "\n",
    "# Select numerical features\n",
    "numerical_features = balanced_df.select_dtypes(include=['int64', 'float64']).columns.tolist()\n",
    "\n",
    "# Compute correlation with target\n",
    "correlation = balanced_df[numerical_features + ['country_destination']].corr()['country_destination'].sort_values(ascending=False)\n",
    "\n",
    "# Display results\n",
    "print(correlation)"
   ]
  },
  {
   "cell_type": "code",
   "execution_count": 36,
   "metadata": {},
   "outputs": [
    {
     "name": "stdout",
     "output_type": "stream",
     "text": [
      "country_destination    1.000000\n",
      "agef                  -0.005533\n",
      "age                   -0.022621\n",
      "age_r                 -0.022621\n",
      "signup_flow           -0.031561\n",
      "Name: country_destination, dtype: float64\n"
     ]
    }
   ],
   "source": [
    "# Load dataset\n",
    "# Convert target variable to numerical encoding\n",
    "train_df['country_destination'] = train_df['country_destination'].astype('category').cat.codes\n",
    "\n",
    "# Select numerical features\n",
    "numerical_features = train_df.select_dtypes(include=['int64', 'float64']).columns.tolist()\n",
    "\n",
    "# Compute correlation with target\n",
    "correlation = train_df[numerical_features + ['country_destination']].corr()['country_destination'].sort_values(ascending=False)\n",
    "\n",
    "# Display results\n",
    "print(correlation)"
   ]
  },
  {
   "cell_type": "markdown",
   "metadata": {},
   "source": [
    "Comparado con el dataset original, podemos observar que la correlacion en las columnas del data set balanceado ha mejorado, aunque sea en poca medida."
   ]
  },
  {
   "cell_type": "markdown",
   "metadata": {},
   "source": [
    "## Pt. 4 - Diseño del Modelo Predictivo\n",
    "\n",
    "En esta parte procedo a integrar modelos predictivos dise;ados para mi problema.\n",
    "\n",
    "Tengo un problema: \n",
    "                    De aprendizaje supervisado: Conozco mi variable objetivo\n",
    "                    Clasificatorio: Tengo que determinar en que categoria va a caer un usuario que viaja en AirBnB.\n",
    "                    Multiclase: La variable objetivo se divide en 12 categorias distintas: AU, CA, DE, ES, FR, GB, IT, NL, PT, US, other, NDF.\n",
    "                \n",
    "En terminos de datos, existe la siguiente dificultad:\n",
    "\n",
    "         El dataset 'test_users' NO posee una columna 'country_destination'.\n",
    "\n",
    "Por lo cual tengo que apartar esos datos y particionar los datos en el conjunto de 'train_users_2' para poder entrenar un Modelo Predictivo y Validar dichas predicciones.\n"
   ]
  },
  {
   "cell_type": "markdown",
   "metadata": {},
   "source": [
    "#### Particionando el Dataset 'train_users_2'\n",
    "\n",
    "Decido hacer un particionado estratificado con un estado aleatorio predeterminado, para eso utilizare metodos en la libreria 'sklearn'"
   ]
  },
  {
   "cell_type": "code",
   "execution_count": 37,
   "metadata": {},
   "outputs": [
    {
     "data": {
      "text/html": [
       "<div>\n",
       "<style scoped>\n",
       "    .dataframe tbody tr th:only-of-type {\n",
       "        vertical-align: middle;\n",
       "    }\n",
       "\n",
       "    .dataframe tbody tr th {\n",
       "        vertical-align: top;\n",
       "    }\n",
       "\n",
       "    .dataframe thead th {\n",
       "        text-align: right;\n",
       "    }\n",
       "</style>\n",
       "<table border=\"1\" class=\"dataframe\">\n",
       "  <thead>\n",
       "    <tr style=\"text-align: right;\">\n",
       "      <th></th>\n",
       "      <th>date_account_created</th>\n",
       "      <th>timestamp_first_active</th>\n",
       "      <th>date_first_booking</th>\n",
       "      <th>gender</th>\n",
       "      <th>age</th>\n",
       "      <th>signup_method</th>\n",
       "      <th>signup_flow</th>\n",
       "      <th>language</th>\n",
       "      <th>affiliate_channel</th>\n",
       "      <th>affiliate_provider</th>\n",
       "      <th>first_affiliate_tracked</th>\n",
       "      <th>signup_app</th>\n",
       "      <th>first_device_type</th>\n",
       "      <th>first_browser</th>\n",
       "      <th>agef</th>\n",
       "      <th>country_destination</th>\n",
       "    </tr>\n",
       "  </thead>\n",
       "  <tbody>\n",
       "    <tr>\n",
       "      <th>186050</th>\n",
       "      <td>2014-05-08</td>\n",
       "      <td>2014-05-08 01:09:03</td>\n",
       "      <td>2014-05-08</td>\n",
       "      <td>MALE</td>\n",
       "      <td>33.0</td>\n",
       "      <td>basic</td>\n",
       "      <td>0</td>\n",
       "      <td>en</td>\n",
       "      <td>sem-non-brand</td>\n",
       "      <td>google</td>\n",
       "      <td>omg</td>\n",
       "      <td>Web</td>\n",
       "      <td>Mac Desktop</td>\n",
       "      <td>Safari</td>\n",
       "      <td>34.0</td>\n",
       "      <td>0</td>\n",
       "    </tr>\n",
       "    <tr>\n",
       "      <th>28916</th>\n",
       "      <td>2012-06-23</td>\n",
       "      <td>2012-06-23 23:56:37</td>\n",
       "      <td>2012-06-24</td>\n",
       "      <td>FEMALE</td>\n",
       "      <td>31.0</td>\n",
       "      <td>basic</td>\n",
       "      <td>0</td>\n",
       "      <td>en</td>\n",
       "      <td>sem-non-brand</td>\n",
       "      <td>vast</td>\n",
       "      <td>omg</td>\n",
       "      <td>Web</td>\n",
       "      <td>Windows Desktop</td>\n",
       "      <td>IE</td>\n",
       "      <td>34.0</td>\n",
       "      <td>0</td>\n",
       "    </tr>\n",
       "    <tr>\n",
       "      <th>126401</th>\n",
       "      <td>2013-11-21</td>\n",
       "      <td>2013-11-21 04:13:07</td>\n",
       "      <td>2013-12-07</td>\n",
       "      <td>MALE</td>\n",
       "      <td>24.0</td>\n",
       "      <td>facebook</td>\n",
       "      <td>0</td>\n",
       "      <td>en</td>\n",
       "      <td>direct</td>\n",
       "      <td>direct</td>\n",
       "      <td>linked</td>\n",
       "      <td>Web</td>\n",
       "      <td>Windows Desktop</td>\n",
       "      <td>Firefox</td>\n",
       "      <td>24.0</td>\n",
       "      <td>0</td>\n",
       "    </tr>\n",
       "    <tr>\n",
       "      <th>35264</th>\n",
       "      <td>2012-08-06</td>\n",
       "      <td>2012-08-06 17:55:24</td>\n",
       "      <td>2012-08-10</td>\n",
       "      <td>MALE</td>\n",
       "      <td>27.0</td>\n",
       "      <td>basic</td>\n",
       "      <td>0</td>\n",
       "      <td>en</td>\n",
       "      <td>direct</td>\n",
       "      <td>direct</td>\n",
       "      <td>linked</td>\n",
       "      <td>Web</td>\n",
       "      <td>Mac Desktop</td>\n",
       "      <td>Chrome</td>\n",
       "      <td>27.0</td>\n",
       "      <td>0</td>\n",
       "    </tr>\n",
       "    <tr>\n",
       "      <th>169066</th>\n",
       "      <td>2014-03-29</td>\n",
       "      <td>2014-03-29 03:16:23</td>\n",
       "      <td>2014-03-30</td>\n",
       "      <td>FEMALE</td>\n",
       "      <td>24.0</td>\n",
       "      <td>basic</td>\n",
       "      <td>0</td>\n",
       "      <td>en</td>\n",
       "      <td>direct</td>\n",
       "      <td>direct</td>\n",
       "      <td>untracked</td>\n",
       "      <td>Web</td>\n",
       "      <td>Mac Desktop</td>\n",
       "      <td>Safari</td>\n",
       "      <td>24.0</td>\n",
       "      <td>0</td>\n",
       "    </tr>\n",
       "  </tbody>\n",
       "</table>\n",
       "</div>"
      ],
      "text/plain": [
       "       date_account_created timestamp_first_active date_first_booking  gender  \\\n",
       "186050           2014-05-08    2014-05-08 01:09:03         2014-05-08    MALE   \n",
       "28916            2012-06-23    2012-06-23 23:56:37         2012-06-24  FEMALE   \n",
       "126401           2013-11-21    2013-11-21 04:13:07         2013-12-07    MALE   \n",
       "35264            2012-08-06    2012-08-06 17:55:24         2012-08-10    MALE   \n",
       "169066           2014-03-29    2014-03-29 03:16:23         2014-03-30  FEMALE   \n",
       "\n",
       "         age signup_method  signup_flow language affiliate_channel  \\\n",
       "186050  33.0         basic            0       en     sem-non-brand   \n",
       "28916   31.0         basic            0       en     sem-non-brand   \n",
       "126401  24.0      facebook            0       en            direct   \n",
       "35264   27.0         basic            0       en            direct   \n",
       "169066  24.0         basic            0       en            direct   \n",
       "\n",
       "       affiliate_provider first_affiliate_tracked signup_app  \\\n",
       "186050             google                     omg        Web   \n",
       "28916                vast                     omg        Web   \n",
       "126401             direct                  linked        Web   \n",
       "35264              direct                  linked        Web   \n",
       "169066             direct               untracked        Web   \n",
       "\n",
       "       first_device_type first_browser  agef  country_destination  \n",
       "186050       Mac Desktop        Safari  34.0                    0  \n",
       "28916    Windows Desktop            IE  34.0                    0  \n",
       "126401   Windows Desktop       Firefox  24.0                    0  \n",
       "35264        Mac Desktop        Chrome  27.0                    0  \n",
       "169066       Mac Desktop        Safari  24.0                    0  "
      ]
     },
     "execution_count": 37,
     "metadata": {},
     "output_type": "execute_result"
    }
   ],
   "source": [
    "#Quiero hacer un modelo predictivo usando mis datos ya procesados, son los siguientes:\n",
    "\n",
    "balanced_df.head()"
   ]
  },
  {
   "cell_type": "code",
   "execution_count": 38,
   "metadata": {},
   "outputs": [
    {
     "name": "stdout",
     "output_type": "stream",
     "text": [
      "       date_account_created timestamp_first_active date_first_booking  \\\n",
      "186050           2014-05-08    2014-05-08 01:09:03         2014-05-08   \n",
      "28916            2012-06-23    2012-06-23 23:56:37         2012-06-24   \n",
      "126401           2013-11-21    2013-11-21 04:13:07         2013-12-07   \n",
      "35264            2012-08-06    2012-08-06 17:55:24         2012-08-10   \n",
      "169066           2014-03-29    2014-03-29 03:16:23         2014-03-30   \n",
      "...                     ...                    ...                ...   \n",
      "19098            2012-03-17    2012-03-17 00:04:39         2012-03-17   \n",
      "4626             2011-05-04    2011-05-04 04:14:35         2011-05-04   \n",
      "27939            2012-06-16    2012-06-16 09:50:01         2012-06-17   \n",
      "145866           2014-01-25    2014-01-25 18:06:37         2014-01-25   \n",
      "7431             2011-08-09    2011-08-09 12:04:58         2011-08-11   \n",
      "\n",
      "           gender   age signup_method  signup_flow language affiliate_channel  \\\n",
      "186050       MALE  33.0         basic            0       en     sem-non-brand   \n",
      "28916      FEMALE  31.0         basic            0       en     sem-non-brand   \n",
      "126401       MALE  24.0      facebook            0       en            direct   \n",
      "35264        MALE  27.0         basic            0       en            direct   \n",
      "169066     FEMALE  24.0         basic            0       en            direct   \n",
      "...           ...   ...           ...          ...      ...               ...   \n",
      "19098   -unknown-  31.0         basic            0       en             other   \n",
      "4626    -unknown-  36.0         basic            3       en            direct   \n",
      "27939        MALE  78.0         basic            0       en            direct   \n",
      "145866  -unknown-  30.0         basic            0       en            direct   \n",
      "7431       FEMALE  27.0      facebook            3       en               seo   \n",
      "\n",
      "       affiliate_provider first_affiliate_tracked signup_app  \\\n",
      "186050             google                     omg        Web   \n",
      "28916                vast                     omg        Web   \n",
      "126401             direct                  linked        Web   \n",
      "35264              direct                  linked        Web   \n",
      "169066             direct               untracked        Web   \n",
      "...                   ...                     ...        ...   \n",
      "19098               other               untracked        Web   \n",
      "4626               direct               untracked        Web   \n",
      "27939              direct                  linked        Web   \n",
      "145866             direct               untracked        Web   \n",
      "7431               google                     omg        Web   \n",
      "\n",
      "       first_device_type first_browser  agef  \n",
      "186050       Mac Desktop        Safari  34.0  \n",
      "28916    Windows Desktop            IE  34.0  \n",
      "126401   Windows Desktop       Firefox  24.0  \n",
      "35264        Mac Desktop        Chrome  27.0  \n",
      "169066       Mac Desktop        Safari  24.0  \n",
      "...                  ...           ...   ...  \n",
      "19098             iPhone     -unknown-  34.0  \n",
      "4626     Windows Desktop       Firefox  36.0  \n",
      "27939        Mac Desktop       Firefox  34.0  \n",
      "145866       Mac Desktop        Chrome  34.0  \n",
      "7431         Mac Desktop       Firefox  27.0  \n",
      "\n",
      "[2604 rows x 15 columns]\n"
     ]
    }
   ],
   "source": [
    "from sklearn.preprocessing import StandardScaler\n",
    "from sklearn.preprocessing import OneHotEncoder\n",
    "\n",
    "# Separate features and target\n",
    "X = balanced_df.drop(columns=['country_destination'])  # Replace 'target_column_name' with the actual name\n",
    "y = balanced_df['country_destination']\n",
    "\n",
    "# Split the train set into training and validation subsets\n",
    "X_train, X_val, y_train, y_val = train_test_split(X, y, test_size=0.2, random_state=42)\n",
    "\n",
    "\n",
    "print(X)"
   ]
  },
  {
   "cell_type": "code",
   "execution_count": 39,
   "metadata": {},
   "outputs": [],
   "source": [
    "# Procesamiento y Encoding de Datos Categoricos\n",
    "# Convert date columns to datetime\n",
    "\n",
    "date_cols = ['date_account_created', 'timestamp_first_active', 'date_first_booking']\n",
    "for col in date_cols:\n",
    "    X_train[col] = pd.to_datetime(X_train[col], errors='coerce')\n",
    "    X_val[col] = pd.to_datetime(X_val[col], errors='coerce')\n",
    "    "
   ]
  },
  {
   "cell_type": "code",
   "execution_count": 40,
   "metadata": {},
   "outputs": [],
   "source": [
    "# Create numerical features from dates\n",
    "for df in [X_train, X_val]:\n",
    "    df['dac_year'] = df['date_account_created'].dt.year\n",
    "    df['dac_month'] = df['date_account_created'].dt.month\n",
    "    df['dac_day'] = df['date_account_created'].dt.day\n",
    "    \n",
    "    df['tfa_year'] = df['timestamp_first_active'].dt.year\n",
    "    df['tfa_month'] = df['timestamp_first_active'].dt.month\n",
    "    df['tfa_day'] = df['timestamp_first_active'].dt.day\n",
    "    \n",
    "    df['dfb_year'] = df['date_first_booking'].dt.year.fillna(0)  # Fill NaN with 0\n",
    "    df['dfb_month'] = df['date_first_booking'].dt.month.fillna(0)\n",
    "    df['dfb_day'] = df['date_first_booking'].dt.day.fillna(0)\n",
    "\n",
    "# Drop original date columns\n",
    "X_train.drop(columns=date_cols, inplace=True)\n",
    "X_val.drop(columns=date_cols, inplace=True)\n",
    "\n"
   ]
  },
  {
   "cell_type": "code",
   "execution_count": 41,
   "metadata": {},
   "outputs": [
    {
     "data": {
      "text/html": [
       "<div>\n",
       "<style scoped>\n",
       "    .dataframe tbody tr th:only-of-type {\n",
       "        vertical-align: middle;\n",
       "    }\n",
       "\n",
       "    .dataframe tbody tr th {\n",
       "        vertical-align: top;\n",
       "    }\n",
       "\n",
       "    .dataframe thead th {\n",
       "        text-align: right;\n",
       "    }\n",
       "</style>\n",
       "<table border=\"1\" class=\"dataframe\">\n",
       "  <thead>\n",
       "    <tr style=\"text-align: right;\">\n",
       "      <th></th>\n",
       "      <th>gender</th>\n",
       "      <th>age</th>\n",
       "      <th>signup_method</th>\n",
       "      <th>signup_flow</th>\n",
       "      <th>language</th>\n",
       "      <th>affiliate_channel</th>\n",
       "      <th>affiliate_provider</th>\n",
       "      <th>first_affiliate_tracked</th>\n",
       "      <th>signup_app</th>\n",
       "      <th>first_device_type</th>\n",
       "      <th>...</th>\n",
       "      <th>agef</th>\n",
       "      <th>dac_year</th>\n",
       "      <th>dac_month</th>\n",
       "      <th>dac_day</th>\n",
       "      <th>tfa_year</th>\n",
       "      <th>tfa_month</th>\n",
       "      <th>tfa_day</th>\n",
       "      <th>dfb_year</th>\n",
       "      <th>dfb_month</th>\n",
       "      <th>dfb_day</th>\n",
       "    </tr>\n",
       "  </thead>\n",
       "  <tbody>\n",
       "    <tr>\n",
       "      <th>121978</th>\n",
       "      <td>-unknown-</td>\n",
       "      <td>57.0</td>\n",
       "      <td>basic</td>\n",
       "      <td>0</td>\n",
       "      <td>en</td>\n",
       "      <td>sem-brand</td>\n",
       "      <td>google</td>\n",
       "      <td>omg</td>\n",
       "      <td>Web</td>\n",
       "      <td>Windows Desktop</td>\n",
       "      <td>...</td>\n",
       "      <td>34.0</td>\n",
       "      <td>2013</td>\n",
       "      <td>11</td>\n",
       "      <td>5</td>\n",
       "      <td>2013</td>\n",
       "      <td>11</td>\n",
       "      <td>5</td>\n",
       "      <td>2013.0</td>\n",
       "      <td>11.0</td>\n",
       "      <td>5.0</td>\n",
       "    </tr>\n",
       "    <tr>\n",
       "      <th>84293</th>\n",
       "      <td>-unknown-</td>\n",
       "      <td>28.0</td>\n",
       "      <td>basic</td>\n",
       "      <td>0</td>\n",
       "      <td>en</td>\n",
       "      <td>sem-non-brand</td>\n",
       "      <td>google</td>\n",
       "      <td>omg</td>\n",
       "      <td>Web</td>\n",
       "      <td>Mac Desktop</td>\n",
       "      <td>...</td>\n",
       "      <td>34.0</td>\n",
       "      <td>2013</td>\n",
       "      <td>6</td>\n",
       "      <td>16</td>\n",
       "      <td>2013</td>\n",
       "      <td>6</td>\n",
       "      <td>16</td>\n",
       "      <td>2013.0</td>\n",
       "      <td>6.0</td>\n",
       "      <td>23.0</td>\n",
       "    </tr>\n",
       "    <tr>\n",
       "      <th>164417</th>\n",
       "      <td>FEMALE</td>\n",
       "      <td>31.0</td>\n",
       "      <td>basic</td>\n",
       "      <td>0</td>\n",
       "      <td>en</td>\n",
       "      <td>direct</td>\n",
       "      <td>direct</td>\n",
       "      <td>untracked</td>\n",
       "      <td>Web</td>\n",
       "      <td>Mac Desktop</td>\n",
       "      <td>...</td>\n",
       "      <td>31.0</td>\n",
       "      <td>2014</td>\n",
       "      <td>3</td>\n",
       "      <td>17</td>\n",
       "      <td>2014</td>\n",
       "      <td>3</td>\n",
       "      <td>17</td>\n",
       "      <td>2014.0</td>\n",
       "      <td>3.0</td>\n",
       "      <td>20.0</td>\n",
       "    </tr>\n",
       "    <tr>\n",
       "      <th>6365</th>\n",
       "      <td>-unknown-</td>\n",
       "      <td>27.0</td>\n",
       "      <td>basic</td>\n",
       "      <td>3</td>\n",
       "      <td>en</td>\n",
       "      <td>direct</td>\n",
       "      <td>direct</td>\n",
       "      <td>linked</td>\n",
       "      <td>Web</td>\n",
       "      <td>iPhone</td>\n",
       "      <td>...</td>\n",
       "      <td>34.0</td>\n",
       "      <td>2011</td>\n",
       "      <td>7</td>\n",
       "      <td>11</td>\n",
       "      <td>2011</td>\n",
       "      <td>7</td>\n",
       "      <td>11</td>\n",
       "      <td>2011.0</td>\n",
       "      <td>7.0</td>\n",
       "      <td>11.0</td>\n",
       "    </tr>\n",
       "    <tr>\n",
       "      <th>39282</th>\n",
       "      <td>FEMALE</td>\n",
       "      <td>36.0</td>\n",
       "      <td>basic</td>\n",
       "      <td>0</td>\n",
       "      <td>en</td>\n",
       "      <td>direct</td>\n",
       "      <td>direct</td>\n",
       "      <td>linked</td>\n",
       "      <td>Web</td>\n",
       "      <td>Mac Desktop</td>\n",
       "      <td>...</td>\n",
       "      <td>36.0</td>\n",
       "      <td>2012</td>\n",
       "      <td>9</td>\n",
       "      <td>3</td>\n",
       "      <td>2012</td>\n",
       "      <td>9</td>\n",
       "      <td>3</td>\n",
       "      <td>2012.0</td>\n",
       "      <td>9.0</td>\n",
       "      <td>4.0</td>\n",
       "    </tr>\n",
       "  </tbody>\n",
       "</table>\n",
       "<p>5 rows × 21 columns</p>\n",
       "</div>"
      ],
      "text/plain": [
       "           gender   age signup_method  signup_flow language affiliate_channel  \\\n",
       "121978  -unknown-  57.0         basic            0       en         sem-brand   \n",
       "84293   -unknown-  28.0         basic            0       en     sem-non-brand   \n",
       "164417     FEMALE  31.0         basic            0       en            direct   \n",
       "6365    -unknown-  27.0         basic            3       en            direct   \n",
       "39282      FEMALE  36.0         basic            0       en            direct   \n",
       "\n",
       "       affiliate_provider first_affiliate_tracked signup_app  \\\n",
       "121978             google                     omg        Web   \n",
       "84293              google                     omg        Web   \n",
       "164417             direct               untracked        Web   \n",
       "6365               direct                  linked        Web   \n",
       "39282              direct                  linked        Web   \n",
       "\n",
       "       first_device_type  ...  agef  dac_year  dac_month  dac_day  tfa_year  \\\n",
       "121978   Windows Desktop  ...  34.0      2013         11        5      2013   \n",
       "84293        Mac Desktop  ...  34.0      2013          6       16      2013   \n",
       "164417       Mac Desktop  ...  31.0      2014          3       17      2014   \n",
       "6365              iPhone  ...  34.0      2011          7       11      2011   \n",
       "39282        Mac Desktop  ...  36.0      2012          9        3      2012   \n",
       "\n",
       "        tfa_month  tfa_day  dfb_year  dfb_month  dfb_day  \n",
       "121978         11        5    2013.0       11.0      5.0  \n",
       "84293           6       16    2013.0        6.0     23.0  \n",
       "164417          3       17    2014.0        3.0     20.0  \n",
       "6365            7       11    2011.0        7.0     11.0  \n",
       "39282           9        3    2012.0        9.0      4.0  \n",
       "\n",
       "[5 rows x 21 columns]"
      ]
     },
     "execution_count": 41,
     "metadata": {},
     "output_type": "execute_result"
    }
   ],
   "source": [
    "X_train.head()"
   ]
  },
  {
   "cell_type": "code",
   "execution_count": 42,
   "metadata": {},
   "outputs": [
    {
     "data": {
      "text/html": [
       "<div>\n",
       "<style scoped>\n",
       "    .dataframe tbody tr th:only-of-type {\n",
       "        vertical-align: middle;\n",
       "    }\n",
       "\n",
       "    .dataframe tbody tr th {\n",
       "        vertical-align: top;\n",
       "    }\n",
       "\n",
       "    .dataframe thead th {\n",
       "        text-align: right;\n",
       "    }\n",
       "</style>\n",
       "<table border=\"1\" class=\"dataframe\">\n",
       "  <thead>\n",
       "    <tr style=\"text-align: right;\">\n",
       "      <th></th>\n",
       "      <th>gender</th>\n",
       "      <th>age</th>\n",
       "      <th>signup_method</th>\n",
       "      <th>signup_flow</th>\n",
       "      <th>language</th>\n",
       "      <th>affiliate_channel</th>\n",
       "      <th>affiliate_provider</th>\n",
       "      <th>first_affiliate_tracked</th>\n",
       "      <th>signup_app</th>\n",
       "      <th>first_device_type</th>\n",
       "      <th>...</th>\n",
       "      <th>agef</th>\n",
       "      <th>dac_year</th>\n",
       "      <th>dac_month</th>\n",
       "      <th>dac_day</th>\n",
       "      <th>tfa_year</th>\n",
       "      <th>tfa_month</th>\n",
       "      <th>tfa_day</th>\n",
       "      <th>dfb_year</th>\n",
       "      <th>dfb_month</th>\n",
       "      <th>dfb_day</th>\n",
       "    </tr>\n",
       "  </thead>\n",
       "  <tbody>\n",
       "    <tr>\n",
       "      <th>146479</th>\n",
       "      <td>-unknown-</td>\n",
       "      <td>33.0</td>\n",
       "      <td>basic</td>\n",
       "      <td>0</td>\n",
       "      <td>en</td>\n",
       "      <td>direct</td>\n",
       "      <td>direct</td>\n",
       "      <td>linked</td>\n",
       "      <td>Web</td>\n",
       "      <td>Mac Desktop</td>\n",
       "      <td>...</td>\n",
       "      <td>33.0</td>\n",
       "      <td>2014</td>\n",
       "      <td>1</td>\n",
       "      <td>27</td>\n",
       "      <td>2014</td>\n",
       "      <td>1</td>\n",
       "      <td>27</td>\n",
       "      <td>2014.0</td>\n",
       "      <td>1.0</td>\n",
       "      <td>28.0</td>\n",
       "    </tr>\n",
       "    <tr>\n",
       "      <th>167671</th>\n",
       "      <td>MALE</td>\n",
       "      <td>25.0</td>\n",
       "      <td>facebook</td>\n",
       "      <td>0</td>\n",
       "      <td>en</td>\n",
       "      <td>sem-non-brand</td>\n",
       "      <td>google</td>\n",
       "      <td>untracked</td>\n",
       "      <td>Web</td>\n",
       "      <td>Mac Desktop</td>\n",
       "      <td>...</td>\n",
       "      <td>25.0</td>\n",
       "      <td>2014</td>\n",
       "      <td>3</td>\n",
       "      <td>25</td>\n",
       "      <td>2014</td>\n",
       "      <td>3</td>\n",
       "      <td>25</td>\n",
       "      <td>2014.0</td>\n",
       "      <td>5.0</td>\n",
       "      <td>7.0</td>\n",
       "    </tr>\n",
       "    <tr>\n",
       "      <th>55287</th>\n",
       "      <td>FEMALE</td>\n",
       "      <td>25.0</td>\n",
       "      <td>facebook</td>\n",
       "      <td>0</td>\n",
       "      <td>en</td>\n",
       "      <td>direct</td>\n",
       "      <td>direct</td>\n",
       "      <td>untracked</td>\n",
       "      <td>Web</td>\n",
       "      <td>Mac Desktop</td>\n",
       "      <td>...</td>\n",
       "      <td>25.0</td>\n",
       "      <td>2013</td>\n",
       "      <td>1</td>\n",
       "      <td>9</td>\n",
       "      <td>2013</td>\n",
       "      <td>1</td>\n",
       "      <td>9</td>\n",
       "      <td>2013.0</td>\n",
       "      <td>1.0</td>\n",
       "      <td>12.0</td>\n",
       "    </tr>\n",
       "    <tr>\n",
       "      <th>78410</th>\n",
       "      <td>MALE</td>\n",
       "      <td>32.0</td>\n",
       "      <td>basic</td>\n",
       "      <td>0</td>\n",
       "      <td>en</td>\n",
       "      <td>direct</td>\n",
       "      <td>direct</td>\n",
       "      <td>untracked</td>\n",
       "      <td>Web</td>\n",
       "      <td>Mac Desktop</td>\n",
       "      <td>...</td>\n",
       "      <td>32.0</td>\n",
       "      <td>2013</td>\n",
       "      <td>5</td>\n",
       "      <td>21</td>\n",
       "      <td>2013</td>\n",
       "      <td>5</td>\n",
       "      <td>21</td>\n",
       "      <td>2013.0</td>\n",
       "      <td>5.0</td>\n",
       "      <td>25.0</td>\n",
       "    </tr>\n",
       "    <tr>\n",
       "      <th>194756</th>\n",
       "      <td>FEMALE</td>\n",
       "      <td>59.0</td>\n",
       "      <td>basic</td>\n",
       "      <td>0</td>\n",
       "      <td>en</td>\n",
       "      <td>sem-brand</td>\n",
       "      <td>bing</td>\n",
       "      <td>linked</td>\n",
       "      <td>Web</td>\n",
       "      <td>iPad</td>\n",
       "      <td>...</td>\n",
       "      <td>59.0</td>\n",
       "      <td>2014</td>\n",
       "      <td>5</td>\n",
       "      <td>25</td>\n",
       "      <td>2014</td>\n",
       "      <td>5</td>\n",
       "      <td>25</td>\n",
       "      <td>2014.0</td>\n",
       "      <td>6.0</td>\n",
       "      <td>5.0</td>\n",
       "    </tr>\n",
       "  </tbody>\n",
       "</table>\n",
       "<p>5 rows × 21 columns</p>\n",
       "</div>"
      ],
      "text/plain": [
       "           gender   age signup_method  signup_flow language affiliate_channel  \\\n",
       "146479  -unknown-  33.0         basic            0       en            direct   \n",
       "167671       MALE  25.0      facebook            0       en     sem-non-brand   \n",
       "55287      FEMALE  25.0      facebook            0       en            direct   \n",
       "78410        MALE  32.0         basic            0       en            direct   \n",
       "194756     FEMALE  59.0         basic            0       en         sem-brand   \n",
       "\n",
       "       affiliate_provider first_affiliate_tracked signup_app  \\\n",
       "146479             direct                  linked        Web   \n",
       "167671             google               untracked        Web   \n",
       "55287              direct               untracked        Web   \n",
       "78410              direct               untracked        Web   \n",
       "194756               bing                  linked        Web   \n",
       "\n",
       "       first_device_type  ...  agef  dac_year  dac_month  dac_day  tfa_year  \\\n",
       "146479       Mac Desktop  ...  33.0      2014          1       27      2014   \n",
       "167671       Mac Desktop  ...  25.0      2014          3       25      2014   \n",
       "55287        Mac Desktop  ...  25.0      2013          1        9      2013   \n",
       "78410        Mac Desktop  ...  32.0      2013          5       21      2013   \n",
       "194756              iPad  ...  59.0      2014          5       25      2014   \n",
       "\n",
       "        tfa_month  tfa_day  dfb_year  dfb_month  dfb_day  \n",
       "146479          1       27    2014.0        1.0     28.0  \n",
       "167671          3       25    2014.0        5.0      7.0  \n",
       "55287           1        9    2013.0        1.0     12.0  \n",
       "78410           5       21    2013.0        5.0     25.0  \n",
       "194756          5       25    2014.0        6.0      5.0  \n",
       "\n",
       "[5 rows x 21 columns]"
      ]
     },
     "execution_count": 42,
     "metadata": {},
     "output_type": "execute_result"
    }
   ],
   "source": [
    "X_val.head()"
   ]
  },
  {
   "cell_type": "code",
   "execution_count": 43,
   "metadata": {},
   "outputs": [
    {
     "name": "stdout",
     "output_type": "stream",
     "text": [
      "Categorical Columns: ['date_account_created', 'date_first_booking', 'gender', 'signup_method', 'language', 'affiliate_channel', 'affiliate_provider', 'first_affiliate_tracked', 'signup_app', 'first_device_type', 'first_browser']\n"
     ]
    }
   ],
   "source": [
    "# Identify categorical columns\n",
    "categorical_cols = balanced_df.select_dtypes(include=['object']).columns.tolist()\n",
    "print(\"Categorical Columns:\", categorical_cols)\n"
   ]
  },
  {
   "cell_type": "code",
   "execution_count": 44,
   "metadata": {},
   "outputs": [],
   "source": [
    "from sklearn.preprocessing import LabelEncoder\n",
    "## Se usa LabelEncoding para variables categoricas con multiples etiquetas\n",
    "encoder = LabelEncoder()\n",
    "for col in categorical_cols:\n",
    "    balanced_df[col] = encoder.fit_transform(balanced_df[col])\n"
   ]
  },
  {
   "cell_type": "code",
   "execution_count": 45,
   "metadata": {},
   "outputs": [],
   "source": [
    "from sklearn.preprocessing import StandardScaler\n",
    "\n",
    "# Identify numerical columns\n",
    "numerical_cols = balanced_df.select_dtypes(include=['int64', 'float64']).columns.tolist()\n",
    "\n",
    "# Initialize scaler\n",
    "scaler = StandardScaler()\n",
    "\n",
    "# Scale numerical features\n",
    "balanced_df[numerical_cols] = scaler.fit_transform(balanced_df[numerical_cols])\n"
   ]
  },
  {
   "cell_type": "code",
   "execution_count": 46,
   "metadata": {},
   "outputs": [
    {
     "name": "stdout",
     "output_type": "stream",
     "text": [
      "Training set size: (2083, 15)\n",
      "Validation set size: (521, 15)\n"
     ]
    }
   ],
   "source": [
    "from sklearn.model_selection import train_test_split\n",
    "\n",
    "# Define features (X) and target variable (y)\n",
    "X = balanced_df.drop(columns=['country_destination'])\n",
    "y = balanced_df['country_destination']\n",
    "\n",
    "# Split data into 80% training and 20% validation\n",
    "X_train, X_val, y_train, y_val = train_test_split(X, y, test_size=0.2, random_state=42, stratify=y)\n",
    "\n",
    "print(\"Training set size:\", X_train.shape)\n",
    "print(\"Validation set size:\", X_val.shape)\n"
   ]
  },
  {
   "cell_type": "code",
   "execution_count": 47,
   "metadata": {},
   "outputs": [],
   "source": [
    "from lazypredict.Supervised import LazyClassifier\n",
    "from sklearn.metrics import accuracy_score\n"
   ]
  },
  {
   "cell_type": "code",
   "execution_count": 48,
   "metadata": {},
   "outputs": [
    {
     "name": "stderr",
     "output_type": "stream",
     "text": [
      " 97%|█████████▋| 31/32 [00:04<00:00,  6.59it/s]"
     ]
    },
    {
     "name": "stdout",
     "output_type": "stream",
     "text": [
      "[LightGBM] [Info] Auto-choosing row-wise multi-threading, the overhead of testing was 0.000106 seconds.\n",
      "You can set `force_row_wise=true` to remove the overhead.\n",
      "And if memory is not enough, you can set `force_col_wise=true`.\n",
      "[LightGBM] [Info] Total Bins 706\n",
      "[LightGBM] [Info] Number of data points in the train set: 2083, number of used features: 14\n",
      "[LightGBM] [Info] Start training from score -2.482509\n",
      "[LightGBM] [Info] Start training from score -2.482509\n",
      "[LightGBM] [Info] Start training from score -2.482509\n",
      "[LightGBM] [Info] Start training from score -2.488273\n",
      "[LightGBM] [Info] Start training from score -2.488273\n",
      "[LightGBM] [Info] Start training from score -2.482509\n",
      "[LightGBM] [Info] Start training from score -2.488273\n",
      "[LightGBM] [Info] Start training from score -2.488273\n",
      "[LightGBM] [Info] Start training from score -2.482509\n",
      "[LightGBM] [Info] Start training from score -2.482509\n",
      "[LightGBM] [Info] Start training from score -2.482509\n",
      "[LightGBM] [Info] Start training from score -2.488273\n",
      "[LightGBM] [Warning] No further splits with positive gain, best gain: -inf\n"
     ]
    },
    {
     "name": "stderr",
     "output_type": "stream",
     "text": [
      "100%|██████████| 32/32 [00:05<00:00,  6.40it/s]"
     ]
    },
    {
     "name": "stdout",
     "output_type": "stream",
     "text": [
      "[LightGBM] [Warning] No further splits with positive gain, best gain: -inf\n",
      "[LightGBM] [Warning] No further splits with positive gain, best gain: -inf\n",
      "[LightGBM] [Warning] No further splits with positive gain, best gain: -inf\n",
      "[LightGBM] [Warning] No further splits with positive gain, best gain: -inf\n",
      "[LightGBM] [Warning] No further splits with positive gain, best gain: -inf\n",
      "[LightGBM] [Warning] No further splits with positive gain, best gain: -inf\n",
      "[LightGBM] [Warning] No further splits with positive gain, best gain: -inf\n",
      "[LightGBM] [Warning] No further splits with positive gain, best gain: -inf\n",
      "[LightGBM] [Warning] No further splits with positive gain, best gain: -inf\n",
      "[LightGBM] [Warning] No further splits with positive gain, best gain: -inf\n",
      "[LightGBM] [Warning] No further splits with positive gain, best gain: -inf\n",
      "[LightGBM] [Warning] No further splits with positive gain, best gain: -inf\n",
      "                               Accuracy  Balanced Accuracy ROC AUC  F1 Score  \\\n",
      "Model                                                                          \n",
      "BaggingClassifier                  0.19               0.19    None      0.19   \n",
      "RandomForestClassifier             0.19               0.19    None      0.19   \n",
      "ExtraTreesClassifier               0.18               0.18    None      0.18   \n",
      "LGBMClassifier                     0.18               0.18    None      0.18   \n",
      "Perceptron                         0.17               0.17    None      0.15   \n",
      "XGBClassifier                      0.17               0.17    None      0.17   \n",
      "QuadraticDiscriminantAnalysis      0.17               0.17    None      0.15   \n",
      "DecisionTreeClassifier             0.17               0.17    None      0.17   \n",
      "SVC                                0.17               0.17    None      0.16   \n",
      "AdaBoostClassifier                 0.17               0.17    None      0.15   \n",
      "NuSVC                              0.16               0.16    None      0.15   \n",
      "LogisticRegression                 0.16               0.16    None      0.15   \n",
      "LinearSVC                          0.16               0.15    None      0.15   \n",
      "CalibratedClassifierCV             0.16               0.15    None      0.13   \n",
      "SGDClassifier                      0.15               0.15    None      0.14   \n",
      "RidgeClassifierCV                  0.15               0.15    None      0.12   \n",
      "RidgeClassifier                    0.15               0.15    None      0.12   \n",
      "GaussianNB                         0.15               0.15    None      0.12   \n",
      "ExtraTreeClassifier                0.15               0.15    None      0.15   \n",
      "PassiveAggressiveClassifier        0.15               0.15    None      0.15   \n",
      "KNeighborsClassifier               0.14               0.14    None      0.14   \n",
      "NearestCentroid                    0.14               0.14    None      0.10   \n",
      "LinearDiscriminantAnalysis         0.14               0.14    None      0.14   \n",
      "LabelPropagation                   0.13               0.13    None      0.14   \n",
      "LabelSpreading                     0.13               0.13    None      0.14   \n",
      "BernoulliNB                        0.12               0.12    None      0.08   \n",
      "DummyClassifier                    0.08               0.08    None      0.01   \n",
      "\n",
      "                               Time Taken  \n",
      "Model                                      \n",
      "BaggingClassifier                    0.13  \n",
      "RandomForestClassifier               0.40  \n",
      "ExtraTreesClassifier                 0.39  \n",
      "LGBMClassifier                       0.67  \n",
      "Perceptron                           0.02  \n",
      "XGBClassifier                        0.54  \n",
      "QuadraticDiscriminantAnalysis        0.01  \n",
      "DecisionTreeClassifier               0.03  \n",
      "SVC                                  0.44  \n",
      "AdaBoostClassifier                   0.16  \n",
      "NuSVC                                0.55  \n",
      "LogisticRegression                   0.08  \n",
      "LinearSVC                            0.03  \n",
      "CalibratedClassifierCV               0.60  \n",
      "SGDClassifier                        0.08  \n",
      "RidgeClassifierCV                    0.03  \n",
      "RidgeClassifier                      0.02  \n",
      "GaussianNB                           0.04  \n",
      "ExtraTreeClassifier                  0.02  \n",
      "PassiveAggressiveClassifier          0.05  \n",
      "KNeighborsClassifier                 0.07  \n",
      "NearestCentroid                      0.06  \n",
      "LinearDiscriminantAnalysis           0.02  \n",
      "LabelPropagation                     0.28  \n",
      "LabelSpreading                       0.24  \n",
      "BernoulliNB                          0.01  \n",
      "DummyClassifier                      0.01  \n"
     ]
    },
    {
     "name": "stderr",
     "output_type": "stream",
     "text": [
      "\n"
     ]
    }
   ],
   "source": [
    "# Initialize LazyClassifier\n",
    "clf = LazyClassifier(verbose=0, ignore_warnings=True, custom_metric=None)\n",
    "\n",
    "# Fit models\n",
    "models, predictions = clf.fit(X_train, X_val, y_train, y_val)\n",
    "\n",
    "# Display model performance\n",
    "print(models)\n"
   ]
  },
  {
   "cell_type": "markdown",
   "metadata": {},
   "source": [
    "Podemos ver que el top 3 de algoritmos (ordenados de mayor eficiencia a menor), son:\n",
    "\n",
    "                                    Accuracy    Balanced Accuracy  ROC AUC   F1 Score\n",
    "    1. BaggingClassifier                  0.20               0.20    None      0.20   \n",
    "    2. DecisionTreeClassifier             0.20               0.20    None      0.20   \n",
    "    3. RandomForestClassifier             0.18               0.18    None      0.18     \n",
    "\n",
    "Sin embargo, estos porcentajes de precision son horribles. Procedo a intentar otro algoritmo con otro tipo de balanceo."
   ]
  },
  {
   "cell_type": "markdown",
   "metadata": {},
   "source": [
    "### Intentando XGBoost\n",
    "\n",
    "Adapto el dataset balanceado a un formato que puede leer XGBoost:\n"
   ]
  },
  {
   "cell_type": "markdown",
   "metadata": {},
   "source": [
    "#### Pruebas de XGBoost con el Dataset recortado\n",
    "\n",
    "Voy a probar este algoritmo con el Dataset Balanceado que he generado, cabe mencionar que recorte algunas columnas para intentar mejorar el tiempo de procesamiento y eliminar el ruido:"
   ]
  },
  {
   "cell_type": "code",
   "execution_count": 49,
   "metadata": {},
   "outputs": [
    {
     "name": "stdout",
     "output_type": "stream",
     "text": [
      "Validation Accuracy: 0.1267\n",
      "[5 8 9 5 7 0 3 2 0 2]\n"
     ]
    }
   ],
   "source": [
    "import pandas as pd\n",
    "import numpy as np\n",
    "from sklearn.model_selection import train_test_split\n",
    "from sklearn.preprocessing import LabelEncoder\n",
    "from xgboost import XGBClassifier\n",
    "from sklearn.metrics import accuracy_score\n",
    "\n",
    "# Load the dataset\n",
    "data = balanced_df\n",
    "# Preprocessing\n",
    "# Drop rows with missing target values\n",
    "data = data.dropna(subset=['country_destination'])\n",
    "\n",
    "# Handle missing values in features\n",
    "data = data.fillna(-1)\n",
    "\n",
    "# Encode categorical variables\n",
    "categorical_features = ['gender', 'language']\n",
    "for feature in categorical_features:\n",
    "    le = LabelEncoder()\n",
    "    data[feature] = le.fit_transform(data[feature].astype(str))\n",
    "\n",
    "# Encode the target variable\n",
    "le = LabelEncoder()\n",
    "data['country_destination'] = le.fit_transform(data['country_destination'])\n",
    "\n",
    "# Split the data into features and target\n",
    "X = data.drop(['date_account_created', 'timestamp_first_active', 'date_first_booking', 'country_destination'], axis=1)\n",
    "y = data['country_destination']\n",
    "\n",
    "# Split the data into training and validation sets\n",
    "X_train, X_val, y_train, y_val = train_test_split(X, y, test_size=0.2, random_state=42)\n",
    "\n",
    "# Train the XGBoost model\n",
    "model = XGBClassifier(objective='multi:softprob', num_class=len(le.classes_), random_state=42)\n",
    "model.fit(X_train, y_train)\n",
    "\n",
    "# Validate the model\n",
    "y_pred = model.predict(X_val)\n",
    "accuracy = accuracy_score(y_val, y_pred)\n",
    "print(f'Validation Accuracy: {accuracy:.4f}')\n",
    "\n",
    "# If you want to see the predicted classes in their original form\n",
    "y_pred_original = le.inverse_transform(y_pred)\n",
    "print(y_pred_original[:10])  # Print the first 10 predictions"
   ]
  },
  {
   "cell_type": "markdown",
   "metadata": {},
   "source": [
    "### Resultados de XGBoost con pocos datos\n",
    "\n",
    "El resultado de la validacion para este conjunto de datos \n",
    "        'balanced_df'\n",
    "Fue de un vergonzoso 10.36%. Por lo cual podemos volver a concluir:\n",
    "\n",
    "                        \"En Data Science, cuanto mas tengas, mejor.\"\n"
   ]
  },
  {
   "cell_type": "markdown",
   "metadata": {},
   "source": [
    "#### Prueba XGBoost con Dataset con mas columnas\n",
    "\n",
    "Ahora intento el mismo algoritmo, pero sin amputar tanta informacion, pues los resultados previos fueron vergonzosos."
   ]
  },
  {
   "cell_type": "code",
   "execution_count": 50,
   "metadata": {},
   "outputs": [
    {
     "name": "stdout",
     "output_type": "stream",
     "text": [
      "Validation Accuracy: 0.6379\n",
      "['US' 'NDF' 'NDF' 'NDF' 'NDF' 'NDF' 'NDF' 'US' 'NDF' 'NDF']\n"
     ]
    }
   ],
   "source": [
    "import pandas as pd\n",
    "import numpy as np\n",
    "from sklearn.model_selection import train_test_split\n",
    "from sklearn.preprocessing import LabelEncoder\n",
    "from xgboost import XGBClassifier\n",
    "from sklearn.metrics import accuracy_score\n",
    "\n",
    "# Load the dataset\n",
    "data = pd.read_csv('train_users_2.csv')\n",
    "# Preprocessing\n",
    "# Drop rows with missing target values\n",
    "data = data.dropna(subset=['country_destination'])\n",
    "\n",
    "# Handle missing values in features\n",
    "data = data.fillna(-1)\n",
    "\n",
    "# Encode categorical variables\n",
    "categorical_features = ['gender', 'signup_method', 'signup_app', 'first_device_type', 'first_browser', \n",
    "                        'affiliate_channel', 'affiliate_provider', 'first_affiliate_tracked', 'language']\n",
    "for feature in categorical_features:\n",
    "    le = LabelEncoder()\n",
    "    data[feature] = le.fit_transform(data[feature].astype(str))\n",
    "\n",
    "# Encode the target variable\n",
    "le = LabelEncoder()\n",
    "data['country_destination'] = le.fit_transform(data['country_destination'])\n",
    "\n",
    "\n",
    "# Split the data into features and target\n",
    "X = data.drop(['id', 'date_account_created', 'timestamp_first_active', 'date_first_booking', 'country_destination'], axis=1)\n",
    "y = data['country_destination']\n",
    "\n",
    "# Split the data into training and validation sets\n",
    "X_train, X_val, y_train, y_val = train_test_split(X, y, test_size=0.2, random_state=42)\n",
    "\n",
    "# Train the XGBoost model\n",
    "model = XGBClassifier(objective='multi:softprob', num_class=len(le.classes_), random_state=42)\n",
    "model.fit(X_train, y_train)\n",
    "\n",
    "# Validate the model\n",
    "y_pred = model.predict(X_val)\n",
    "accuracy = accuracy_score(y_val, y_pred)\n",
    "print(f'Validation Accuracy: {accuracy:.4f}')\n",
    "\n",
    "# If you want to see the predicted classes in their original form\n",
    "y_pred_original = le.inverse_transform(y_pred)\n",
    "print(y_pred_original[:10])  # Print the first 10 predictions"
   ]
  },
  {
   "cell_type": "code",
   "execution_count": 51,
   "metadata": {},
   "outputs": [
    {
     "name": "stdout",
     "output_type": "stream",
     "text": [
      "Validation Accuracy: 0.8751\n",
      "['US' 'NDF' 'NDF' 'NDF' 'US' 'NDF' 'NDF' 'US' 'NDF' 'US']\n",
      "Fitting 3 folds for each of 16 candidates, totalling 48 fits\n",
      "Best Parameters: {'learning_rate': 0.01, 'max_depth': 3, 'n_estimators': 100, 'subsample': 0.8}\n",
      "Best Accuracy: 0.8757964394471772\n"
     ]
    }
   ],
   "source": [
    "##Voy a respetar la mayor parte de las columnas posible en vez de droppear las que empiricamente se quitarian\n",
    "\n",
    "import pandas as pd\n",
    "import numpy as np\n",
    "from sklearn.model_selection import train_test_split\n",
    "from sklearn.preprocessing import LabelEncoder\n",
    "from xgboost import XGBClassifier\n",
    "from sklearn.metrics import accuracy_score\n",
    "from sklearn.model_selection import train_test_split, GridSearchCV\n",
    "from sklearn.metrics import accuracy_score\n",
    "\n",
    "\n",
    "# Load the dataset\n",
    "data = pd.read_csv('train_users_2.csv')\n",
    "\n",
    "# Preprocessing\n",
    "# Drop rows with missing target values\n",
    "data = data.dropna(subset=['country_destination'])\n",
    "\n",
    "### Voy a droppear valores NaN de la columna date_fist_booking\n",
    "# data = data.dropna(subset=['date_first_booking'])\n",
    "### Resulta en un bajon de Accuracy, baja a un 69.9%\n",
    "\n",
    "# Handle missing values in features\n",
    "data = data.fillna(-1)\n",
    "\n",
    "# Feature Engineering for date columns\n",
    "# Convert to datetime\n",
    "data['date_account_created'] = pd.to_datetime(data['date_account_created'])\n",
    "data['timestamp_first_active'] = pd.to_datetime(data['timestamp_first_active'], format='%Y%m%d%H%M%S')\n",
    "data['date_first_booking'] = pd.to_datetime(data['date_first_booking'])\n",
    "\n",
    "# Extract features from date_account_created\n",
    "data['account_created_year'] = data['date_account_created'].dt.year\n",
    "data['account_created_month'] = data['date_account_created'].dt.month\n",
    "data['account_created_day'] = data['date_account_created'].dt.day\n",
    "data['account_created_weekday'] = data['date_account_created'].dt.weekday  # Monday=0, Sunday=6\n",
    "\n",
    "# Extract features from timestamp_first_active\n",
    "data['first_active_year'] = data['timestamp_first_active'].dt.year\n",
    "data['first_active_month'] = data['timestamp_first_active'].dt.month\n",
    "data['first_active_day'] = data['timestamp_first_active'].dt.day\n",
    "data['first_active_hour'] = data['timestamp_first_active'].dt.hour\n",
    "\n",
    "# Extract features from date_first_booking (if available)\n",
    "data['booking_year'] = data['date_first_booking'].dt.year\n",
    "data['booking_month'] = data['date_first_booking'].dt.month\n",
    "data['booking_day'] = data['date_first_booking'].dt.day\n",
    "data['booking_weekday'] = data['date_first_booking'].dt.weekday\n",
    "\n",
    "# Calculate time differences\n",
    "data['time_to_first_booking'] = (data['date_first_booking'] - data['date_account_created']).dt.days\n",
    "data['time_since_account_created'] = (pd.Timestamp.now() - data['date_account_created']).dt.days\n",
    "\n",
    "# Drop the original date columns \n",
    "data = data.drop(['date_account_created', 'timestamp_first_active', 'date_first_booking'], axis=1)\n",
    "\n",
    "# Encode categorical variables\n",
    "## Procuro mantener la mayor cantidad de columnas posibles\n",
    "categorical_features = ['gender', 'signup_method', 'signup_app', 'first_device_type', 'first_browser', \n",
    "                        'affiliate_channel', 'affiliate_provider', 'first_affiliate_tracked', 'language']\n",
    "for feature in categorical_features:\n",
    "    le = LabelEncoder()\n",
    "    data[feature] = le.fit_transform(data[feature].astype(str))\n",
    "\n",
    "# Encode the target variable\n",
    "le = LabelEncoder()\n",
    "data['country_destination'] = le.fit_transform(data['country_destination'])\n",
    "\n",
    "# Split the data into features and target\n",
    "X = data.drop(['id', 'country_destination'], axis=1)  # Drop 'id' and the target column\n",
    "y = data['country_destination']\n",
    "\n",
    "# Split the data into training and validation sets\n",
    "X_train, X_val, y_train, y_val = train_test_split(X, y, test_size=0.2, random_state=42)\n",
    "\n",
    "# Train the XGBoost model\n",
    "model = XGBClassifier(objective='multi:softprob', num_class=len(le.classes_), random_state=42)\n",
    "model.fit(X_train, y_train)\n",
    "\n",
    "# Validate the model\n",
    "y_pred = model.predict(X_val)\n",
    "accuracy = accuracy_score(y_val, y_pred)\n",
    "print(f'Validation Accuracy: {accuracy:.4f}')\n",
    "\n",
    "# If you want to see the predicted classes in their original form\n",
    "y_pred_original = le.inverse_transform(y_pred)\n",
    "print(y_pred_original[:10])  # Print the first 10 predictions\n",
    "\n",
    "# Define hyperparameter grid\n",
    "param_grid = {\n",
    "    'n_estimators': [100, 200],\n",
    "    'learning_rate': [0.01, 0.1],\n",
    "    'max_depth': [3, 6],\n",
    "    'subsample': [0.8, 1.0]\n",
    "}\n",
    "\n",
    "# Perform GridSearchCV\n",
    "grid_search = GridSearchCV(model, param_grid, cv=3, scoring='accuracy', verbose=1, n_jobs=-1)\n",
    "grid_search.fit(X_train, y_train)\n",
    "\n",
    "# Best parameters and accuracy\n",
    "print(\"Best Parameters:\", grid_search.best_params_)\n",
    "print(\"Best Accuracy:\", grid_search.best_score_)\n"
   ]
  },
  {
   "cell_type": "code",
   "execution_count": 52,
   "metadata": {},
   "outputs": [
    {
     "name": "stdout",
     "output_type": "stream",
     "text": [
      "Test Set Accuracy: 0.8757964394471773\n"
     ]
    }
   ],
   "source": [
    "# Evaluate on test set\n",
    "best_model = grid_search.best_estimator_\n",
    "y_pred = best_model.predict(X_train)\n",
    "test_accuracy = accuracy_score(y_train, y_pred)\n",
    "print(\"Test Set Accuracy:\", test_accuracy)"
   ]
  },
  {
   "cell_type": "code",
   "execution_count": 53,
   "metadata": {},
   "outputs": [
    {
     "name": "stdout",
     "output_type": "stream",
     "text": [
      "Accuracy: 0.8758\n",
      "Precision: 0.7887\n",
      "Recall: 0.8758\n",
      "F1 Score: 0.8246\n"
     ]
    },
    {
     "data": {
      "image/png": "[encoded data removed]",
      "text/plain": [
       "<Figure size 1000x600 with 2 Axes>"
      ]
     },
     "metadata": {},
     "output_type": "display_data"
    }
   ],
   "source": [
    "from sklearn.metrics import accuracy_score, confusion_matrix, precision_score, recall_score, f1_score\n",
    "# Make predictions\n",
    "y_pred = best_model.predict(X_train)\n",
    "\n",
    "# Compute evaluation metrics\n",
    "accuracy = accuracy_score(y_train, y_pred)\n",
    "conf_matrix = confusion_matrix(y_train, y_pred)\n",
    "precision = precision_score(y_train, y_pred, average='weighted')  # Use 'macro' for class imbalance\n",
    "recall = recall_score(y_train, y_pred, average='weighted')\n",
    "f1 = f1_score(y_train, y_pred, average='weighted')\n",
    "\n",
    "# Print results\n",
    "print(f\"Accuracy: {accuracy:.4f}\")\n",
    "print(f\"Precision: {precision:.4f}\")\n",
    "print(f\"Recall: {recall:.4f}\")\n",
    "print(f\"F1 Score: {f1:.4f}\")\n",
    "\n",
    "# Plot Confusion Matrix\n",
    "plt.figure(figsize=(10, 6))\n",
    "sns.heatmap(conf_matrix, annot=True, fmt=\"d\", cmap=\"Blues\", xticklabels=np.unique(y_train), yticklabels=np.unique(y_train))\n",
    "plt.xlabel(\"Predicted Label\")\n",
    "plt.ylabel(\"True Label\")\n",
    "plt.title(\"Confusion Matrix\")\n",
    "plt.show()"
   ]
  },
  {
   "cell_type": "markdown",
   "metadata": {},
   "source": [
    "### Importancia de Features\n",
    "\n",
    "Procedo a graficar las variables de fechas y determinar cuanto impactan en el conjunto de datos:"
   ]
  },
  {
   "cell_type": "code",
   "execution_count": 54,
   "metadata": {},
   "outputs": [
    {
     "data": {
      "image/png": "[encoded data removed]",
      "text/plain": [
       "<Figure size 640x480 with 1 Axes>"
      ]
     },
     "metadata": {},
     "output_type": "display_data"
    }
   ],
   "source": [
    "import matplotlib.pyplot as plt\n",
    "from xgboost import plot_importance\n",
    "\n",
    "plot_importance(model)\n",
    "plt.show()"
   ]
  },
  {
   "cell_type": "markdown",
   "metadata": {},
   "source": [
    "Se puede apreciar en estos datos, aquellos que tienen mas peso son los de 'Edad'."
   ]
  },
  {
   "cell_type": "markdown",
   "metadata": {},
   "source": [
    "### Resultados XGBoost\n",
    "Usando XGBoost con la mayor cantidad de columnas posibles y sin amputar datos, obtengo una \n",
    "\n",
    "                                            Accuracy de 87.5%\n",
    "\n",
    "\n",
    "Empleando GridSearch para ajustar hiperparametros, el tiempo de procesamiento es muchisimo mas alto. \n",
    "Y el modelo mejora hasta un... \n",
    "\n",
    "                                            Accuracy de 87.579%\n",
    "\n",
    "Lo cual representa una mejora, sin embargo no considero que el tiempo de procesamiento amerite el incremento en Accuracy.\n",
    "\n",
    "Finalmente, corroborando el modelo que acabo de realizar, se obtienen las siguientes metricas.\n",
    "\n",
    "✓ Accuracy: 0.8758\n",
    "✓ Precision: 0.7887\n",
    "✓ Recall: 0.8758\n",
    "✓ F1 Score: 0.8246\n",
    "\n",
    "Los cuales aseguran que el modelo predictivo es hasta cierto punto confiable:\n",
    "El modelo aprendió patrones fuertes en los datos y tiene una alta capacidad de predicción asi un buen balance entre precisión y recall. Sin embargo, al tener una precisión más baja que recall, puede estar prediciendo destinos erróneos en algunos casos."
   ]
  },
  {
   "cell_type": "markdown",
   "metadata": {},
   "source": [
    "## Conclusiones\n",
    "\n",
    "1. Comparando el performance de XGBoost sin eliminar tantas filas (train_users_2.csv)\n",
    "vs el dataset recortado (balanced_df), el dataset con mas informacion tiene muchisima mejor precision que el balanceado. Mientras mas informacion respete, mejor.\n",
    "2. Lazypredict ayuda a probar multiples metodos de machine learning y evaluar su eficiencia de una manera muy conveniente, tomando en cuenta que el usuario no tiene que escribir tantas lineas de codigo.\n",
    "3. El balanceo de informacion es importante, pero si quitas muchas columnas, terminaras con un modelo PESIMO.\n",
    "4. De nuevo, en el mundo de ciencia de datos: a mayor cantidad, mejor. Claro, que la limpieza de los datos es importante, pero si tienes muchisimos datos, tienes mas posibilidades de hallar algo bueno.\n",
    "5. La afinacion de hiperparametros puede ser muy util para mejorar el rendimiento del modelo, pero a veces es tan pequenya la mejoria, que no vale la pena aumentar el tiempo de procesamiento.\n",
    "\n",
    "\n"
   ]
  }
 ],
 "metadata": {
  "kernelspec": {
   "display_name": "clean_env",
   "language": "python",
   "name": "python3"
  },
  "language_info": {
   "codemirror_mode": {
    "name": "ipython",
    "version": 3
   },
   "file_extension": ".py",
   "mimetype": "text/x-python",
   "name": "python",
   "nbconvert_exporter": "python",
   "pygments_lexer": "ipython3",
   "version": "3.12.8"
  }
 },
 "nbformat": 4,
 "nbformat_minor": 2
}
